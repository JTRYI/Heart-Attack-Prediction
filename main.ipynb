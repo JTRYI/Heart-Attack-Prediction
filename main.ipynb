{
 "cells": [
  {
   "cell_type": "markdown",
   "id": "d70e8138-a7d8-476c-a894-387b20c05c87",
   "metadata": {
    "tags": []
   },
   "source": [
    "# Heart Attack Prediction "
   ]
  },
  {
   "cell_type": "code",
   "execution_count": 1,
   "id": "1e1d3979-a403-4f0c-9dc2-e589dff92866",
   "metadata": {},
   "outputs": [],
   "source": [
    "import pandas as pd\n",
    "import webbrowser\n",
    "import os\n",
    "import seaborn as sns\n",
    "import matplotlib.pyplot as plt\n",
    "\n",
    "#Read heart attack dataset into a data table using pandas\n",
    "#ha = heart attack\n",
    "ha_data_table = pd.read_csv(\"data/heart_attack_prediction_dataset.csv\")\n"
   ]
  },
  {
   "cell_type": "markdown",
   "id": "fbf07845-854e-4f90-b3c7-70dda7bdb163",
   "metadata": {},
   "source": [
    "## Data Exploration and Processing"
   ]
  },
  {
   "cell_type": "code",
   "execution_count": 2,
   "id": "e875e594-b88a-46cf-bbcc-ec7043cf2f8f",
   "metadata": {},
   "outputs": [
    {
     "data": {
      "text/plain": [
       "True"
      ]
     },
     "execution_count": 2,
     "metadata": {},
     "output_type": "execute_result"
    }
   ],
   "source": [
    "#Creating a web page view of the first 100 rows of the data table for easy viewing\n",
    "html = ha_data_table[0:100].to_html()\n",
    "\n",
    "filename = \"hadata.html\"\n",
    "\n",
    "# Save the HTML representation of the data table to a file for viewing\n",
    "# 'filename' specifies the file to save to, and 'html' contains the data in HTML format\n",
    "with open(filename, \"w\") as f:\n",
    "    f.write(html)\n",
    "    \n",
    "#open the web page in our web browser\n",
    "full_filename = os.path.abspath(filename)\n",
    "webbrowser.open(\"file://{}\".format(full_filename))\n"
   ]
  },
  {
   "cell_type": "code",
   "execution_count": 3,
   "id": "12cbbd40-2a08-4aa1-ac9b-5e10b449e696",
   "metadata": {},
   "outputs": [
    {
     "data": {
      "text/html": [
       "<div>\n",
       "<style scoped>\n",
       "    .dataframe tbody tr th:only-of-type {\n",
       "        vertical-align: middle;\n",
       "    }\n",
       "\n",
       "    .dataframe tbody tr th {\n",
       "        vertical-align: top;\n",
       "    }\n",
       "\n",
       "    .dataframe thead th {\n",
       "        text-align: right;\n",
       "    }\n",
       "</style>\n",
       "<table border=\"1\" class=\"dataframe\">\n",
       "  <thead>\n",
       "    <tr style=\"text-align: right;\">\n",
       "      <th></th>\n",
       "      <th>Patient ID</th>\n",
       "      <th>Age</th>\n",
       "      <th>Sex</th>\n",
       "      <th>Cholesterol</th>\n",
       "      <th>Blood Pressure</th>\n",
       "      <th>Heart Rate</th>\n",
       "      <th>Diabetes</th>\n",
       "      <th>Family History</th>\n",
       "      <th>Smoking</th>\n",
       "      <th>Obesity</th>\n",
       "      <th>...</th>\n",
       "      <th>Sedentary Hours Per Day</th>\n",
       "      <th>Income</th>\n",
       "      <th>BMI</th>\n",
       "      <th>Triglycerides</th>\n",
       "      <th>Physical Activity Days Per Week</th>\n",
       "      <th>Sleep Hours Per Day</th>\n",
       "      <th>Country</th>\n",
       "      <th>Continent</th>\n",
       "      <th>Hemisphere</th>\n",
       "      <th>Heart Attack Risk</th>\n",
       "    </tr>\n",
       "  </thead>\n",
       "  <tbody>\n",
       "    <tr>\n",
       "      <th>0</th>\n",
       "      <td>BMW7812</td>\n",
       "      <td>67</td>\n",
       "      <td>Male</td>\n",
       "      <td>208</td>\n",
       "      <td>158/88</td>\n",
       "      <td>72</td>\n",
       "      <td>0</td>\n",
       "      <td>0</td>\n",
       "      <td>1</td>\n",
       "      <td>0</td>\n",
       "      <td>...</td>\n",
       "      <td>6.615001</td>\n",
       "      <td>261404</td>\n",
       "      <td>31.251233</td>\n",
       "      <td>286</td>\n",
       "      <td>0</td>\n",
       "      <td>6</td>\n",
       "      <td>Argentina</td>\n",
       "      <td>South America</td>\n",
       "      <td>Southern Hemisphere</td>\n",
       "      <td>0</td>\n",
       "    </tr>\n",
       "    <tr>\n",
       "      <th>1</th>\n",
       "      <td>CZE1114</td>\n",
       "      <td>21</td>\n",
       "      <td>Male</td>\n",
       "      <td>389</td>\n",
       "      <td>165/93</td>\n",
       "      <td>98</td>\n",
       "      <td>1</td>\n",
       "      <td>1</td>\n",
       "      <td>1</td>\n",
       "      <td>1</td>\n",
       "      <td>...</td>\n",
       "      <td>4.963459</td>\n",
       "      <td>285768</td>\n",
       "      <td>27.194973</td>\n",
       "      <td>235</td>\n",
       "      <td>1</td>\n",
       "      <td>7</td>\n",
       "      <td>Canada</td>\n",
       "      <td>North America</td>\n",
       "      <td>Northern Hemisphere</td>\n",
       "      <td>0</td>\n",
       "    </tr>\n",
       "    <tr>\n",
       "      <th>2</th>\n",
       "      <td>BNI9906</td>\n",
       "      <td>21</td>\n",
       "      <td>Female</td>\n",
       "      <td>324</td>\n",
       "      <td>174/99</td>\n",
       "      <td>72</td>\n",
       "      <td>1</td>\n",
       "      <td>0</td>\n",
       "      <td>0</td>\n",
       "      <td>0</td>\n",
       "      <td>...</td>\n",
       "      <td>9.463426</td>\n",
       "      <td>235282</td>\n",
       "      <td>28.176571</td>\n",
       "      <td>587</td>\n",
       "      <td>4</td>\n",
       "      <td>4</td>\n",
       "      <td>France</td>\n",
       "      <td>Europe</td>\n",
       "      <td>Northern Hemisphere</td>\n",
       "      <td>0</td>\n",
       "    </tr>\n",
       "    <tr>\n",
       "      <th>3</th>\n",
       "      <td>JLN3497</td>\n",
       "      <td>84</td>\n",
       "      <td>Male</td>\n",
       "      <td>383</td>\n",
       "      <td>163/100</td>\n",
       "      <td>73</td>\n",
       "      <td>1</td>\n",
       "      <td>1</td>\n",
       "      <td>1</td>\n",
       "      <td>0</td>\n",
       "      <td>...</td>\n",
       "      <td>7.648981</td>\n",
       "      <td>125640</td>\n",
       "      <td>36.464704</td>\n",
       "      <td>378</td>\n",
       "      <td>3</td>\n",
       "      <td>4</td>\n",
       "      <td>Canada</td>\n",
       "      <td>North America</td>\n",
       "      <td>Northern Hemisphere</td>\n",
       "      <td>0</td>\n",
       "    </tr>\n",
       "    <tr>\n",
       "      <th>4</th>\n",
       "      <td>GFO8847</td>\n",
       "      <td>66</td>\n",
       "      <td>Male</td>\n",
       "      <td>318</td>\n",
       "      <td>91/88</td>\n",
       "      <td>93</td>\n",
       "      <td>1</td>\n",
       "      <td>1</td>\n",
       "      <td>1</td>\n",
       "      <td>1</td>\n",
       "      <td>...</td>\n",
       "      <td>1.514821</td>\n",
       "      <td>160555</td>\n",
       "      <td>21.809144</td>\n",
       "      <td>231</td>\n",
       "      <td>1</td>\n",
       "      <td>5</td>\n",
       "      <td>Thailand</td>\n",
       "      <td>Asia</td>\n",
       "      <td>Northern Hemisphere</td>\n",
       "      <td>0</td>\n",
       "    </tr>\n",
       "  </tbody>\n",
       "</table>\n",
       "<p>5 rows × 26 columns</p>\n",
       "</div>"
      ],
      "text/plain": [
       "  Patient ID  Age     Sex  Cholesterol Blood Pressure  Heart Rate  Diabetes  \\\n",
       "0    BMW7812   67    Male          208         158/88          72         0   \n",
       "1    CZE1114   21    Male          389         165/93          98         1   \n",
       "2    BNI9906   21  Female          324         174/99          72         1   \n",
       "3    JLN3497   84    Male          383        163/100          73         1   \n",
       "4    GFO8847   66    Male          318          91/88          93         1   \n",
       "\n",
       "   Family History  Smoking  Obesity  ...  Sedentary Hours Per Day  Income  \\\n",
       "0               0        1        0  ...                 6.615001  261404   \n",
       "1               1        1        1  ...                 4.963459  285768   \n",
       "2               0        0        0  ...                 9.463426  235282   \n",
       "3               1        1        0  ...                 7.648981  125640   \n",
       "4               1        1        1  ...                 1.514821  160555   \n",
       "\n",
       "         BMI  Triglycerides  Physical Activity Days Per Week  \\\n",
       "0  31.251233            286                                0   \n",
       "1  27.194973            235                                1   \n",
       "2  28.176571            587                                4   \n",
       "3  36.464704            378                                3   \n",
       "4  21.809144            231                                1   \n",
       "\n",
       "   Sleep Hours Per Day    Country      Continent           Hemisphere  \\\n",
       "0                    6  Argentina  South America  Southern Hemisphere   \n",
       "1                    7     Canada  North America  Northern Hemisphere   \n",
       "2                    4     France         Europe  Northern Hemisphere   \n",
       "3                    4     Canada  North America  Northern Hemisphere   \n",
       "4                    5   Thailand           Asia  Northern Hemisphere   \n",
       "\n",
       "   Heart Attack Risk  \n",
       "0                  0  \n",
       "1                  0  \n",
       "2                  0  \n",
       "3                  0  \n",
       "4                  0  \n",
       "\n",
       "[5 rows x 26 columns]"
      ]
     },
     "execution_count": 3,
     "metadata": {},
     "output_type": "execute_result"
    }
   ],
   "source": [
    "ha_data_table.head()"
   ]
  },
  {
   "cell_type": "code",
   "execution_count": 4,
   "id": "fde48373-25da-4c57-8f7c-fda660df07dc",
   "metadata": {},
   "outputs": [
    {
     "data": {
      "text/plain": [
       "Patient ID                         0\n",
       "Age                                0\n",
       "Sex                                0\n",
       "Cholesterol                        0\n",
       "Blood Pressure                     0\n",
       "Heart Rate                         0\n",
       "Diabetes                           0\n",
       "Family History                     0\n",
       "Smoking                            0\n",
       "Obesity                            0\n",
       "Alcohol Consumption                0\n",
       "Exercise Hours Per Week            0\n",
       "Diet                               0\n",
       "Previous Heart Problems            0\n",
       "Medication Use                     0\n",
       "Stress Level                       0\n",
       "Sedentary Hours Per Day            0\n",
       "Income                             0\n",
       "BMI                                0\n",
       "Triglycerides                      0\n",
       "Physical Activity Days Per Week    0\n",
       "Sleep Hours Per Day                0\n",
       "Country                            0\n",
       "Continent                          0\n",
       "Hemisphere                         0\n",
       "Heart Attack Risk                  0\n",
       "dtype: int64"
      ]
     },
     "execution_count": 4,
     "metadata": {},
     "output_type": "execute_result"
    }
   ],
   "source": [
    "#check for missing values\n",
    "ha_data_table.isna().sum()"
   ]
  },
  {
   "cell_type": "markdown",
   "id": "db2dd91a-db0f-4582-9302-d7057ddb23fb",
   "metadata": {},
   "source": [
    "### Exploring and Processing Numeric Fields"
   ]
  },
  {
   "cell_type": "code",
   "execution_count": 5,
   "id": "eb2a844c-9612-466a-a042-7c5d56fa480c",
   "metadata": {},
   "outputs": [
    {
     "data": {
      "text/html": [
       "<div>\n",
       "<style scoped>\n",
       "    .dataframe tbody tr th:only-of-type {\n",
       "        vertical-align: middle;\n",
       "    }\n",
       "\n",
       "    .dataframe tbody tr th {\n",
       "        vertical-align: top;\n",
       "    }\n",
       "\n",
       "    .dataframe thead th {\n",
       "        text-align: right;\n",
       "    }\n",
       "</style>\n",
       "<table border=\"1\" class=\"dataframe\">\n",
       "  <thead>\n",
       "    <tr style=\"text-align: right;\">\n",
       "      <th></th>\n",
       "      <th>Age</th>\n",
       "      <th>Cholesterol</th>\n",
       "      <th>Heart Rate</th>\n",
       "      <th>Diabetes</th>\n",
       "      <th>Family History</th>\n",
       "      <th>Smoking</th>\n",
       "      <th>Obesity</th>\n",
       "      <th>Alcohol Consumption</th>\n",
       "      <th>Exercise Hours Per Week</th>\n",
       "      <th>Previous Heart Problems</th>\n",
       "      <th>Medication Use</th>\n",
       "      <th>Stress Level</th>\n",
       "      <th>Sedentary Hours Per Day</th>\n",
       "      <th>Income</th>\n",
       "      <th>BMI</th>\n",
       "      <th>Triglycerides</th>\n",
       "      <th>Physical Activity Days Per Week</th>\n",
       "      <th>Sleep Hours Per Day</th>\n",
       "      <th>Heart Attack Risk</th>\n",
       "    </tr>\n",
       "  </thead>\n",
       "  <tbody>\n",
       "    <tr>\n",
       "      <th>count</th>\n",
       "      <td>8763.000000</td>\n",
       "      <td>8763.000000</td>\n",
       "      <td>8763.000000</td>\n",
       "      <td>8763.000000</td>\n",
       "      <td>8763.000000</td>\n",
       "      <td>8763.000000</td>\n",
       "      <td>8763.000000</td>\n",
       "      <td>8763.000000</td>\n",
       "      <td>8763.000000</td>\n",
       "      <td>8763.000000</td>\n",
       "      <td>8763.000000</td>\n",
       "      <td>8763.000000</td>\n",
       "      <td>8763.000000</td>\n",
       "      <td>8763.000000</td>\n",
       "      <td>8763.000000</td>\n",
       "      <td>8763.000000</td>\n",
       "      <td>8763.000000</td>\n",
       "      <td>8763.000000</td>\n",
       "      <td>8763.000000</td>\n",
       "    </tr>\n",
       "    <tr>\n",
       "      <th>mean</th>\n",
       "      <td>53.707977</td>\n",
       "      <td>259.877211</td>\n",
       "      <td>75.021682</td>\n",
       "      <td>0.652288</td>\n",
       "      <td>0.492982</td>\n",
       "      <td>0.896839</td>\n",
       "      <td>0.501426</td>\n",
       "      <td>0.598083</td>\n",
       "      <td>10.014284</td>\n",
       "      <td>0.495835</td>\n",
       "      <td>0.498345</td>\n",
       "      <td>5.469702</td>\n",
       "      <td>5.993690</td>\n",
       "      <td>158263.181901</td>\n",
       "      <td>28.891446</td>\n",
       "      <td>417.677051</td>\n",
       "      <td>3.489672</td>\n",
       "      <td>7.023508</td>\n",
       "      <td>0.358211</td>\n",
       "    </tr>\n",
       "    <tr>\n",
       "      <th>std</th>\n",
       "      <td>21.249509</td>\n",
       "      <td>80.863276</td>\n",
       "      <td>20.550948</td>\n",
       "      <td>0.476271</td>\n",
       "      <td>0.499979</td>\n",
       "      <td>0.304186</td>\n",
       "      <td>0.500026</td>\n",
       "      <td>0.490313</td>\n",
       "      <td>5.783745</td>\n",
       "      <td>0.500011</td>\n",
       "      <td>0.500026</td>\n",
       "      <td>2.859622</td>\n",
       "      <td>3.466359</td>\n",
       "      <td>80575.190806</td>\n",
       "      <td>6.319181</td>\n",
       "      <td>223.748137</td>\n",
       "      <td>2.282687</td>\n",
       "      <td>1.988473</td>\n",
       "      <td>0.479502</td>\n",
       "    </tr>\n",
       "    <tr>\n",
       "      <th>min</th>\n",
       "      <td>18.000000</td>\n",
       "      <td>120.000000</td>\n",
       "      <td>40.000000</td>\n",
       "      <td>0.000000</td>\n",
       "      <td>0.000000</td>\n",
       "      <td>0.000000</td>\n",
       "      <td>0.000000</td>\n",
       "      <td>0.000000</td>\n",
       "      <td>0.002442</td>\n",
       "      <td>0.000000</td>\n",
       "      <td>0.000000</td>\n",
       "      <td>1.000000</td>\n",
       "      <td>0.001263</td>\n",
       "      <td>20062.000000</td>\n",
       "      <td>18.002337</td>\n",
       "      <td>30.000000</td>\n",
       "      <td>0.000000</td>\n",
       "      <td>4.000000</td>\n",
       "      <td>0.000000</td>\n",
       "    </tr>\n",
       "    <tr>\n",
       "      <th>25%</th>\n",
       "      <td>35.000000</td>\n",
       "      <td>192.000000</td>\n",
       "      <td>57.000000</td>\n",
       "      <td>0.000000</td>\n",
       "      <td>0.000000</td>\n",
       "      <td>1.000000</td>\n",
       "      <td>0.000000</td>\n",
       "      <td>0.000000</td>\n",
       "      <td>4.981579</td>\n",
       "      <td>0.000000</td>\n",
       "      <td>0.000000</td>\n",
       "      <td>3.000000</td>\n",
       "      <td>2.998794</td>\n",
       "      <td>88310.000000</td>\n",
       "      <td>23.422985</td>\n",
       "      <td>225.500000</td>\n",
       "      <td>2.000000</td>\n",
       "      <td>5.000000</td>\n",
       "      <td>0.000000</td>\n",
       "    </tr>\n",
       "    <tr>\n",
       "      <th>50%</th>\n",
       "      <td>54.000000</td>\n",
       "      <td>259.000000</td>\n",
       "      <td>75.000000</td>\n",
       "      <td>1.000000</td>\n",
       "      <td>0.000000</td>\n",
       "      <td>1.000000</td>\n",
       "      <td>1.000000</td>\n",
       "      <td>1.000000</td>\n",
       "      <td>10.069559</td>\n",
       "      <td>0.000000</td>\n",
       "      <td>0.000000</td>\n",
       "      <td>5.000000</td>\n",
       "      <td>5.933622</td>\n",
       "      <td>157866.000000</td>\n",
       "      <td>28.768999</td>\n",
       "      <td>417.000000</td>\n",
       "      <td>3.000000</td>\n",
       "      <td>7.000000</td>\n",
       "      <td>0.000000</td>\n",
       "    </tr>\n",
       "    <tr>\n",
       "      <th>75%</th>\n",
       "      <td>72.000000</td>\n",
       "      <td>330.000000</td>\n",
       "      <td>93.000000</td>\n",
       "      <td>1.000000</td>\n",
       "      <td>1.000000</td>\n",
       "      <td>1.000000</td>\n",
       "      <td>1.000000</td>\n",
       "      <td>1.000000</td>\n",
       "      <td>15.050018</td>\n",
       "      <td>1.000000</td>\n",
       "      <td>1.000000</td>\n",
       "      <td>8.000000</td>\n",
       "      <td>9.019124</td>\n",
       "      <td>227749.000000</td>\n",
       "      <td>34.324594</td>\n",
       "      <td>612.000000</td>\n",
       "      <td>5.000000</td>\n",
       "      <td>9.000000</td>\n",
       "      <td>1.000000</td>\n",
       "    </tr>\n",
       "    <tr>\n",
       "      <th>max</th>\n",
       "      <td>90.000000</td>\n",
       "      <td>400.000000</td>\n",
       "      <td>110.000000</td>\n",
       "      <td>1.000000</td>\n",
       "      <td>1.000000</td>\n",
       "      <td>1.000000</td>\n",
       "      <td>1.000000</td>\n",
       "      <td>1.000000</td>\n",
       "      <td>19.998709</td>\n",
       "      <td>1.000000</td>\n",
       "      <td>1.000000</td>\n",
       "      <td>10.000000</td>\n",
       "      <td>11.999313</td>\n",
       "      <td>299954.000000</td>\n",
       "      <td>39.997211</td>\n",
       "      <td>800.000000</td>\n",
       "      <td>7.000000</td>\n",
       "      <td>10.000000</td>\n",
       "      <td>1.000000</td>\n",
       "    </tr>\n",
       "  </tbody>\n",
       "</table>\n",
       "</div>"
      ],
      "text/plain": [
       "               Age  Cholesterol   Heart Rate     Diabetes  Family History  \\\n",
       "count  8763.000000  8763.000000  8763.000000  8763.000000     8763.000000   \n",
       "mean     53.707977   259.877211    75.021682     0.652288        0.492982   \n",
       "std      21.249509    80.863276    20.550948     0.476271        0.499979   \n",
       "min      18.000000   120.000000    40.000000     0.000000        0.000000   \n",
       "25%      35.000000   192.000000    57.000000     0.000000        0.000000   \n",
       "50%      54.000000   259.000000    75.000000     1.000000        0.000000   \n",
       "75%      72.000000   330.000000    93.000000     1.000000        1.000000   \n",
       "max      90.000000   400.000000   110.000000     1.000000        1.000000   \n",
       "\n",
       "           Smoking      Obesity  Alcohol Consumption  Exercise Hours Per Week  \\\n",
       "count  8763.000000  8763.000000          8763.000000              8763.000000   \n",
       "mean      0.896839     0.501426             0.598083                10.014284   \n",
       "std       0.304186     0.500026             0.490313                 5.783745   \n",
       "min       0.000000     0.000000             0.000000                 0.002442   \n",
       "25%       1.000000     0.000000             0.000000                 4.981579   \n",
       "50%       1.000000     1.000000             1.000000                10.069559   \n",
       "75%       1.000000     1.000000             1.000000                15.050018   \n",
       "max       1.000000     1.000000             1.000000                19.998709   \n",
       "\n",
       "       Previous Heart Problems  Medication Use  Stress Level  \\\n",
       "count              8763.000000     8763.000000   8763.000000   \n",
       "mean                  0.495835        0.498345      5.469702   \n",
       "std                   0.500011        0.500026      2.859622   \n",
       "min                   0.000000        0.000000      1.000000   \n",
       "25%                   0.000000        0.000000      3.000000   \n",
       "50%                   0.000000        0.000000      5.000000   \n",
       "75%                   1.000000        1.000000      8.000000   \n",
       "max                   1.000000        1.000000     10.000000   \n",
       "\n",
       "       Sedentary Hours Per Day         Income          BMI  Triglycerides  \\\n",
       "count              8763.000000    8763.000000  8763.000000    8763.000000   \n",
       "mean                  5.993690  158263.181901    28.891446     417.677051   \n",
       "std                   3.466359   80575.190806     6.319181     223.748137   \n",
       "min                   0.001263   20062.000000    18.002337      30.000000   \n",
       "25%                   2.998794   88310.000000    23.422985     225.500000   \n",
       "50%                   5.933622  157866.000000    28.768999     417.000000   \n",
       "75%                   9.019124  227749.000000    34.324594     612.000000   \n",
       "max                  11.999313  299954.000000    39.997211     800.000000   \n",
       "\n",
       "       Physical Activity Days Per Week  Sleep Hours Per Day  Heart Attack Risk  \n",
       "count                      8763.000000          8763.000000        8763.000000  \n",
       "mean                          3.489672             7.023508           0.358211  \n",
       "std                           2.282687             1.988473           0.479502  \n",
       "min                           0.000000             4.000000           0.000000  \n",
       "25%                           2.000000             5.000000           0.000000  \n",
       "50%                           3.000000             7.000000           0.000000  \n",
       "75%                           5.000000             9.000000           1.000000  \n",
       "max                           7.000000            10.000000           1.000000  "
      ]
     },
     "execution_count": 5,
     "metadata": {},
     "output_type": "execute_result"
    }
   ],
   "source": [
    "#summary of numeric fields in the data table\n",
    "ha_data_table.describe()"
   ]
  },
  {
   "cell_type": "code",
   "execution_count": 6,
   "id": "d7dc32fe-fdd7-41ec-aa58-0dfaf864ab21",
   "metadata": {},
   "outputs": [
    {
     "name": "stdout",
     "output_type": "stream",
     "text": [
      "Heart Attack Risk\n",
      "0    5624\n",
      "1    3139\n",
      "dtype: int64\n"
     ]
    }
   ],
   "source": [
    "#heart attack risk distribution\n",
    "print(ha_data_table.groupby('Heart Attack Risk').size())"
   ]
  },
  {
   "cell_type": "markdown",
   "id": "bcf06d3d-791f-4cfa-9a48-5f8214568408",
   "metadata": {},
   "source": [
    "#### Since the columns Physical Activity Days Per Week and Exercise Hours Per Week essentially convey the frequency of physical activity, keeping only one of them helps streamline and simplify the dataset without losing significant information."
   ]
  },
  {
   "cell_type": "code",
   "execution_count": 7,
   "id": "d760ad89-44a3-4956-a9e5-920af2816de4",
   "metadata": {},
   "outputs": [
    {
     "data": {
      "text/html": [
       "<div>\n",
       "<style scoped>\n",
       "    .dataframe tbody tr th:only-of-type {\n",
       "        vertical-align: middle;\n",
       "    }\n",
       "\n",
       "    .dataframe tbody tr th {\n",
       "        vertical-align: top;\n",
       "    }\n",
       "\n",
       "    .dataframe thead th {\n",
       "        text-align: right;\n",
       "    }\n",
       "</style>\n",
       "<table border=\"1\" class=\"dataframe\">\n",
       "  <thead>\n",
       "    <tr style=\"text-align: right;\">\n",
       "      <th></th>\n",
       "      <th>Patient ID</th>\n",
       "      <th>Age</th>\n",
       "      <th>Sex</th>\n",
       "      <th>Cholesterol</th>\n",
       "      <th>Blood Pressure</th>\n",
       "      <th>Heart Rate</th>\n",
       "      <th>Diabetes</th>\n",
       "      <th>Family History</th>\n",
       "      <th>Smoking</th>\n",
       "      <th>Obesity</th>\n",
       "      <th>...</th>\n",
       "      <th>Stress Level</th>\n",
       "      <th>Sedentary Hours Per Day</th>\n",
       "      <th>Income</th>\n",
       "      <th>BMI</th>\n",
       "      <th>Triglycerides</th>\n",
       "      <th>Sleep Hours Per Day</th>\n",
       "      <th>Country</th>\n",
       "      <th>Continent</th>\n",
       "      <th>Hemisphere</th>\n",
       "      <th>Heart Attack Risk</th>\n",
       "    </tr>\n",
       "  </thead>\n",
       "  <tbody>\n",
       "    <tr>\n",
       "      <th>0</th>\n",
       "      <td>BMW7812</td>\n",
       "      <td>67</td>\n",
       "      <td>Male</td>\n",
       "      <td>208</td>\n",
       "      <td>158/88</td>\n",
       "      <td>72</td>\n",
       "      <td>0</td>\n",
       "      <td>0</td>\n",
       "      <td>1</td>\n",
       "      <td>0</td>\n",
       "      <td>...</td>\n",
       "      <td>9</td>\n",
       "      <td>6.615001</td>\n",
       "      <td>261404</td>\n",
       "      <td>31.251233</td>\n",
       "      <td>286</td>\n",
       "      <td>6</td>\n",
       "      <td>Argentina</td>\n",
       "      <td>South America</td>\n",
       "      <td>Southern Hemisphere</td>\n",
       "      <td>0</td>\n",
       "    </tr>\n",
       "    <tr>\n",
       "      <th>1</th>\n",
       "      <td>CZE1114</td>\n",
       "      <td>21</td>\n",
       "      <td>Male</td>\n",
       "      <td>389</td>\n",
       "      <td>165/93</td>\n",
       "      <td>98</td>\n",
       "      <td>1</td>\n",
       "      <td>1</td>\n",
       "      <td>1</td>\n",
       "      <td>1</td>\n",
       "      <td>...</td>\n",
       "      <td>1</td>\n",
       "      <td>4.963459</td>\n",
       "      <td>285768</td>\n",
       "      <td>27.194973</td>\n",
       "      <td>235</td>\n",
       "      <td>7</td>\n",
       "      <td>Canada</td>\n",
       "      <td>North America</td>\n",
       "      <td>Northern Hemisphere</td>\n",
       "      <td>0</td>\n",
       "    </tr>\n",
       "    <tr>\n",
       "      <th>2</th>\n",
       "      <td>BNI9906</td>\n",
       "      <td>21</td>\n",
       "      <td>Female</td>\n",
       "      <td>324</td>\n",
       "      <td>174/99</td>\n",
       "      <td>72</td>\n",
       "      <td>1</td>\n",
       "      <td>0</td>\n",
       "      <td>0</td>\n",
       "      <td>0</td>\n",
       "      <td>...</td>\n",
       "      <td>9</td>\n",
       "      <td>9.463426</td>\n",
       "      <td>235282</td>\n",
       "      <td>28.176571</td>\n",
       "      <td>587</td>\n",
       "      <td>4</td>\n",
       "      <td>France</td>\n",
       "      <td>Europe</td>\n",
       "      <td>Northern Hemisphere</td>\n",
       "      <td>0</td>\n",
       "    </tr>\n",
       "    <tr>\n",
       "      <th>3</th>\n",
       "      <td>JLN3497</td>\n",
       "      <td>84</td>\n",
       "      <td>Male</td>\n",
       "      <td>383</td>\n",
       "      <td>163/100</td>\n",
       "      <td>73</td>\n",
       "      <td>1</td>\n",
       "      <td>1</td>\n",
       "      <td>1</td>\n",
       "      <td>0</td>\n",
       "      <td>...</td>\n",
       "      <td>9</td>\n",
       "      <td>7.648981</td>\n",
       "      <td>125640</td>\n",
       "      <td>36.464704</td>\n",
       "      <td>378</td>\n",
       "      <td>4</td>\n",
       "      <td>Canada</td>\n",
       "      <td>North America</td>\n",
       "      <td>Northern Hemisphere</td>\n",
       "      <td>0</td>\n",
       "    </tr>\n",
       "    <tr>\n",
       "      <th>4</th>\n",
       "      <td>GFO8847</td>\n",
       "      <td>66</td>\n",
       "      <td>Male</td>\n",
       "      <td>318</td>\n",
       "      <td>91/88</td>\n",
       "      <td>93</td>\n",
       "      <td>1</td>\n",
       "      <td>1</td>\n",
       "      <td>1</td>\n",
       "      <td>1</td>\n",
       "      <td>...</td>\n",
       "      <td>6</td>\n",
       "      <td>1.514821</td>\n",
       "      <td>160555</td>\n",
       "      <td>21.809144</td>\n",
       "      <td>231</td>\n",
       "      <td>5</td>\n",
       "      <td>Thailand</td>\n",
       "      <td>Asia</td>\n",
       "      <td>Northern Hemisphere</td>\n",
       "      <td>0</td>\n",
       "    </tr>\n",
       "  </tbody>\n",
       "</table>\n",
       "<p>5 rows × 25 columns</p>\n",
       "</div>"
      ],
      "text/plain": [
       "  Patient ID  Age     Sex  Cholesterol Blood Pressure  Heart Rate  Diabetes  \\\n",
       "0    BMW7812   67    Male          208         158/88          72         0   \n",
       "1    CZE1114   21    Male          389         165/93          98         1   \n",
       "2    BNI9906   21  Female          324         174/99          72         1   \n",
       "3    JLN3497   84    Male          383        163/100          73         1   \n",
       "4    GFO8847   66    Male          318          91/88          93         1   \n",
       "\n",
       "   Family History  Smoking  Obesity  ...  Stress Level  \\\n",
       "0               0        1        0  ...             9   \n",
       "1               1        1        1  ...             1   \n",
       "2               0        0        0  ...             9   \n",
       "3               1        1        0  ...             9   \n",
       "4               1        1        1  ...             6   \n",
       "\n",
       "   Sedentary Hours Per Day  Income        BMI  Triglycerides  \\\n",
       "0                 6.615001  261404  31.251233            286   \n",
       "1                 4.963459  285768  27.194973            235   \n",
       "2                 9.463426  235282  28.176571            587   \n",
       "3                 7.648981  125640  36.464704            378   \n",
       "4                 1.514821  160555  21.809144            231   \n",
       "\n",
       "   Sleep Hours Per Day    Country      Continent           Hemisphere  \\\n",
       "0                    6  Argentina  South America  Southern Hemisphere   \n",
       "1                    7     Canada  North America  Northern Hemisphere   \n",
       "2                    4     France         Europe  Northern Hemisphere   \n",
       "3                    4     Canada  North America  Northern Hemisphere   \n",
       "4                    5   Thailand           Asia  Northern Hemisphere   \n",
       "\n",
       "   Heart Attack Risk  \n",
       "0                  0  \n",
       "1                  0  \n",
       "2                  0  \n",
       "3                  0  \n",
       "4                  0  \n",
       "\n",
       "[5 rows x 25 columns]"
      ]
     },
     "execution_count": 7,
     "metadata": {},
     "output_type": "execute_result"
    }
   ],
   "source": [
    "#Removing \"Physical Activity Days Per Week\" column since it is similar to \"Exercise Hours Per Week\"\n",
    "del ha_data_table[\"Physical Activity Days Per Week\"]\n",
    "\n",
    "#Check if columns had been removed\n",
    "ha_data_table.head()"
   ]
  },
  {
   "cell_type": "code",
   "execution_count": 8,
   "id": "da84bc4f-9e07-4204-ab19-fce354346618",
   "metadata": {},
   "outputs": [
    {
     "data": {
      "image/png": "[encoded data removed]",
      "text/plain": [
       "<Figure size 432x288 with 1 Axes>"
      ]
     },
     "metadata": {},
     "output_type": "display_data"
    }
   ],
   "source": [
    "#Exploring the Age Distribution with Pie Chart\n",
    "\n",
    "# Defining the age bins and labels for age groups\n",
    "age_bins = [0, 17, 31, 46, 91]\n",
    "age_labels = ['0-16', '17-30', '31-45', '>45']\n",
    "\n",
    "# Creating a new column 'Age Group' based on the age bins\n",
    "ha_data_table['Age Group'] = pd.cut(ha_data_table['Age'], bins=age_bins, labels=age_labels, right=False)\n",
    "\n",
    "# Ploting the pie chart using the 'Age Group' column instead of 'Age' Column for better Visualization\n",
    "ha_data_table['Age Group'].value_counts().plot(kind='pie', autopct='%1.0f%%', labeldistance= 1.1)\n",
    "\n",
    "#Removing 'Age Group' Column after plotting\n",
    "del ha_data_table['Age Group']"
   ]
  },
  {
   "cell_type": "code",
   "execution_count": 9,
   "id": "da749184-ee1c-4b92-9ec8-d51acf38b0d9",
   "metadata": {},
   "outputs": [
    {
     "data": {
      "text/plain": [
       "<function matplotlib.pyplot.show(close=None, block=None)>"
      ]
     },
     "execution_count": 9,
     "metadata": {},
     "output_type": "execute_result"
    },
    {
     "data": {
      "image/png": "[encoded data removed]",
      "text/plain": [
       "<Figure size 432x288 with 1 Axes>"
      ]
     },
     "metadata": {
      "needs_background": "light"
     },
     "output_type": "display_data"
    }
   ],
   "source": [
    "#Exploring Cholesterol Column\n",
    "ha_data_table['Cholesterol'].plot(kind='box', subplots=True, sharex=False, sharey=False)\n",
    "plt.show"
   ]
  },
  {
   "cell_type": "code",
   "execution_count": 10,
   "id": "14b67e78-9f36-43ad-bd86-c070a6ac4bf4",
   "metadata": {},
   "outputs": [
    {
     "data": {
      "text/plain": [
       "<function matplotlib.pyplot.show(close=None, block=None)>"
      ]
     },
     "execution_count": 10,
     "metadata": {},
     "output_type": "execute_result"
    },
    {
     "data": {
      "image/png": "[encoded data removed]",
      "text/plain": [
       "<Figure size 432x288 with 1 Axes>"
      ]
     },
     "metadata": {
      "needs_background": "light"
     },
     "output_type": "display_data"
    }
   ],
   "source": [
    "#Exploring Heart Rate Column\n",
    "ha_data_table['Heart Rate'].plot(kind='box', subplots=True, sharex=False, sharey=False)\n",
    "plt.show"
   ]
  },
  {
   "cell_type": "code",
   "execution_count": 11,
   "id": "a173b345-61b1-41f5-9807-786737a966e0",
   "metadata": {},
   "outputs": [
    {
     "data": {
      "text/plain": [
       "(array([3047.,    0.,    0.,    0.,    0.,    0.,    0.,    0.,    0.,\n",
       "        5716.]),\n",
       " array([0. , 0.1, 0.2, 0.3, 0.4, 0.5, 0.6, 0.7, 0.8, 0.9, 1. ]),\n",
       " <BarContainer object of 10 artists>)"
      ]
     },
     "execution_count": 11,
     "metadata": {},
     "output_type": "execute_result"
    },
    {
     "data": {
      "image/png": "[encoded data removed]",
      "text/plain": [
       "<Figure size 432x288 with 1 Axes>"
      ]
     },
     "metadata": {
      "needs_background": "light"
     },
     "output_type": "display_data"
    }
   ],
   "source": [
    "#Exploring the number of diabetics\n",
    "plt.hist(ha_data_table['Diabetes'])"
   ]
  },
  {
   "cell_type": "code",
   "execution_count": 12,
   "id": "7aec83a6-466e-455c-80f6-634c6f0459ef",
   "metadata": {},
   "outputs": [
    {
     "data": {
      "text/plain": [
       "(array([4443.,    0.,    0.,    0.,    0.,    0.,    0.,    0.,    0.,\n",
       "        4320.]),\n",
       " array([0. , 0.1, 0.2, 0.3, 0.4, 0.5, 0.6, 0.7, 0.8, 0.9, 1. ]),\n",
       " <BarContainer object of 10 artists>)"
      ]
     },
     "execution_count": 12,
     "metadata": {},
     "output_type": "execute_result"
    },
    {
     "data": {
      "image/png": "[encoded data removed]",
      "text/plain": [
       "<Figure size 432x288 with 1 Axes>"
      ]
     },
     "metadata": {
      "needs_background": "light"
     },
     "output_type": "display_data"
    }
   ],
   "source": [
    "#Exploring the number of people with Family History \n",
    "plt.hist(ha_data_table['Family History'])"
   ]
  },
  {
   "cell_type": "code",
   "execution_count": 13,
   "id": "cad9632d-6d6d-40da-83e9-03d933296021",
   "metadata": {},
   "outputs": [
    {
     "data": {
      "text/plain": [
       "(array([ 904.,    0.,    0.,    0.,    0.,    0.,    0.,    0.,    0.,\n",
       "        7859.]),\n",
       " array([0. , 0.1, 0.2, 0.3, 0.4, 0.5, 0.6, 0.7, 0.8, 0.9, 1. ]),\n",
       " <BarContainer object of 10 artists>)"
      ]
     },
     "execution_count": 13,
     "metadata": {},
     "output_type": "execute_result"
    },
    {
     "data": {
      "image/png": "[encoded data removed]",
      "text/plain": [
       "<Figure size 432x288 with 1 Axes>"
      ]
     },
     "metadata": {
      "needs_background": "light"
     },
     "output_type": "display_data"
    }
   ],
   "source": [
    "#Exploring the number of smokers\n",
    "plt.hist(ha_data_table['Smoking'])"
   ]
  },
  {
   "cell_type": "code",
   "execution_count": 14,
   "id": "d96c2ffb-e611-4ddc-9c16-e44b176b00f4",
   "metadata": {},
   "outputs": [
    {
     "data": {
      "text/plain": [
       "(array([4369.,    0.,    0.,    0.,    0.,    0.,    0.,    0.,    0.,\n",
       "        4394.]),\n",
       " array([0. , 0.1, 0.2, 0.3, 0.4, 0.5, 0.6, 0.7, 0.8, 0.9, 1. ]),\n",
       " <BarContainer object of 10 artists>)"
      ]
     },
     "execution_count": 14,
     "metadata": {},
     "output_type": "execute_result"
    },
    {
     "data": {
      "image/png": "[encoded data removed]",
      "text/plain": [
       "<Figure size 432x288 with 1 Axes>"
      ]
     },
     "metadata": {
      "needs_background": "light"
     },
     "output_type": "display_data"
    }
   ],
   "source": [
    "#Exploring the number of obese people\n",
    "plt.hist(ha_data_table['Obesity'])"
   ]
  },
  {
   "cell_type": "code",
   "execution_count": 15,
   "id": "85bc715b-fdd2-4593-b16e-50427eedde8d",
   "metadata": {},
   "outputs": [
    {
     "data": {
      "text/plain": [
       "(array([3522.,    0.,    0.,    0.,    0.,    0.,    0.,    0.,    0.,\n",
       "        5241.]),\n",
       " array([0. , 0.1, 0.2, 0.3, 0.4, 0.5, 0.6, 0.7, 0.8, 0.9, 1. ]),\n",
       " <BarContainer object of 10 artists>)"
      ]
     },
     "execution_count": 15,
     "metadata": {},
     "output_type": "execute_result"
    },
    {
     "data": {
      "image/png": "[encoded data removed]",
      "text/plain": [
       "<Figure size 432x288 with 1 Axes>"
      ]
     },
     "metadata": {
      "needs_background": "light"
     },
     "output_type": "display_data"
    }
   ],
   "source": [
    "#Exploring the number of people who drink alcohol\n",
    "plt.hist(ha_data_table['Alcohol Consumption'])"
   ]
  },
  {
   "cell_type": "code",
   "execution_count": 16,
   "id": "9a01798c-f269-4c2f-9f86-46fb1c167b86",
   "metadata": {},
   "outputs": [
    {
     "data": {
      "text/plain": [
       "<function matplotlib.pyplot.show(close=None, block=None)>"
      ]
     },
     "execution_count": 16,
     "metadata": {},
     "output_type": "execute_result"
    },
    {
     "data": {
      "image/png": "[encoded data removed]",
      "text/plain": [
       "<Figure size 432x288 with 1 Axes>"
      ]
     },
     "metadata": {
      "needs_background": "light"
     },
     "output_type": "display_data"
    }
   ],
   "source": [
    "#Exploring Exercise hours per week\n",
    "ha_data_table['Exercise Hours Per Week'].plot(kind='box', subplots=True, sharex=False, sharey=False)\n",
    "plt.show"
   ]
  },
  {
   "cell_type": "code",
   "execution_count": 17,
   "id": "bda4a0bf-6505-4c21-8725-ceca06a351c8",
   "metadata": {},
   "outputs": [
    {
     "data": {
      "text/plain": [
       "(array([4418.,    0.,    0.,    0.,    0.,    0.,    0.,    0.,    0.,\n",
       "        4345.]),\n",
       " array([0. , 0.1, 0.2, 0.3, 0.4, 0.5, 0.6, 0.7, 0.8, 0.9, 1. ]),\n",
       " <BarContainer object of 10 artists>)"
      ]
     },
     "execution_count": 17,
     "metadata": {},
     "output_type": "execute_result"
    },
    {
     "data": {
      "image/png": "[encoded data removed]",
      "text/plain": [
       "<Figure size 432x288 with 1 Axes>"
      ]
     },
     "metadata": {
      "needs_background": "light"
     },
     "output_type": "display_data"
    }
   ],
   "source": [
    "#Exploring the number of people with previous heart problems\n",
    "plt.hist(ha_data_table['Previous Heart Problems'])"
   ]
  },
  {
   "cell_type": "code",
   "execution_count": 18,
   "id": "ca8075ee-193a-42cd-b7a7-d837a7af478e",
   "metadata": {},
   "outputs": [
    {
     "data": {
      "text/plain": [
       "(array([4396.,    0.,    0.,    0.,    0.,    0.,    0.,    0.,    0.,\n",
       "        4367.]),\n",
       " array([0. , 0.1, 0.2, 0.3, 0.4, 0.5, 0.6, 0.7, 0.8, 0.9, 1. ]),\n",
       " <BarContainer object of 10 artists>)"
      ]
     },
     "execution_count": 18,
     "metadata": {},
     "output_type": "execute_result"
    },
    {
     "data": {
      "image/png": "[encoded data removed]",
      "text/plain": [
       "<Figure size 432x288 with 1 Axes>"
      ]
     },
     "metadata": {
      "needs_background": "light"
     },
     "output_type": "display_data"
    }
   ],
   "source": [
    "#Exploring Medication Use\n",
    "plt.hist(ha_data_table['Medication Use'])"
   ]
  },
  {
   "cell_type": "code",
   "execution_count": 19,
   "id": "b9e67686-5476-4e20-9726-cf2a8eb085ff",
   "metadata": {},
   "outputs": [
    {
     "data": {
      "text/plain": [
       "<AxesSubplot:ylabel='Stress Level'>"
      ]
     },
     "execution_count": 19,
     "metadata": {},
     "output_type": "execute_result"
    },
    {
     "data": {
      "image/png": "[encoded data removed]",
      "text/plain": [
       "<Figure size 432x288 with 1 Axes>"
      ]
     },
     "metadata": {},
     "output_type": "display_data"
    }
   ],
   "source": [
    "#Exploring the distribution of stress levels\n",
    "ha_data_table['Stress Level'].value_counts().plot(kind='pie', autopct='%1.0f%%', labeldistance= 1.1)"
   ]
  },
  {
   "cell_type": "code",
   "execution_count": 20,
   "id": "c251e281-2d7d-47a9-80d8-4faf966a475b",
   "metadata": {},
   "outputs": [
    {
     "data": {
      "text/plain": [
       "<function matplotlib.pyplot.show(close=None, block=None)>"
      ]
     },
     "execution_count": 20,
     "metadata": {},
     "output_type": "execute_result"
    },
    {
     "data": {
      "image/png": "[encoded data removed]",
      "text/plain": [
       "<Figure size 432x288 with 1 Axes>"
      ]
     },
     "metadata": {
      "needs_background": "light"
     },
     "output_type": "display_data"
    }
   ],
   "source": [
    "#Exploring Sedentary Hours per Day\n",
    "ha_data_table['Sedentary Hours Per Day'].plot(kind='box', subplots=True, sharex=False, sharey=False)\n",
    "plt.show"
   ]
  },
  {
   "cell_type": "code",
   "execution_count": 21,
   "id": "307c9ded-87c6-48c0-976d-d34c73965592",
   "metadata": {},
   "outputs": [
    {
     "data": {
      "text/plain": [
       "<function matplotlib.pyplot.show(close=None, block=None)>"
      ]
     },
     "execution_count": 21,
     "metadata": {},
     "output_type": "execute_result"
    },
    {
     "data": {
      "image/png": "[encoded data removed]",
      "text/plain": [
       "<Figure size 432x288 with 1 Axes>"
      ]
     },
     "metadata": {
      "needs_background": "light"
     },
     "output_type": "display_data"
    }
   ],
   "source": [
    "#Exploring Income\n",
    "ha_data_table['Income'].plot(kind='box', subplots=True, sharex=False, sharey=False)\n",
    "plt.show"
   ]
  },
  {
   "cell_type": "code",
   "execution_count": 22,
   "id": "50343820-ce62-4345-a5ae-abbe303009af",
   "metadata": {},
   "outputs": [
    {
     "data": {
      "image/png": "[encoded data removed]",
      "text/plain": [
       "<Figure size 720x432 with 1 Axes>"
      ]
     },
     "metadata": {
      "needs_background": "light"
     },
     "output_type": "display_data"
    }
   ],
   "source": [
    "#Exploring BMI\n",
    "plt.figure(figsize=(10, 6))\n",
    "plt.hist(ha_data_table['BMI'], bins=30, color='#86bf91', edgecolor='black', alpha=0.7)\n",
    "plt.title('Distribution of BMI')\n",
    "plt.xlabel('BMI')\n",
    "plt.ylabel('Count')\n",
    "plt.show()"
   ]
  },
  {
   "cell_type": "code",
   "execution_count": 23,
   "id": "f55a2d7e-c0c6-420b-8a43-98bd29009cb1",
   "metadata": {},
   "outputs": [
    {
     "data": {
      "image/png": "[encoded data removed]",
      "text/plain": [
       "<Figure size 720x432 with 1 Axes>"
      ]
     },
     "metadata": {
      "needs_background": "light"
     },
     "output_type": "display_data"
    }
   ],
   "source": [
    "#Exploring Triglycerides\n",
    "plt.figure(figsize=(10, 6))\n",
    "plt.hist(ha_data_table['Triglycerides'], bins=30, color='#86bf91', edgecolor='black', alpha=0.7)\n",
    "plt.title('Distribution of Triglycerides')\n",
    "plt.xlabel('Triglycerides')\n",
    "plt.ylabel('Count')\n",
    "plt.show()"
   ]
  },
  {
   "cell_type": "code",
   "execution_count": 24,
   "id": "cc9c50c5-710c-4898-ad4c-20de42f54c92",
   "metadata": {},
   "outputs": [
    {
     "data": {
      "text/plain": [
       "<AxesSubplot:ylabel='Sleep Hours Per Day'>"
      ]
     },
     "execution_count": 24,
     "metadata": {},
     "output_type": "execute_result"
    },
    {
     "data": {
      "image/png": "[encoded data removed]",
      "text/plain": [
       "<Figure size 432x288 with 1 Axes>"
      ]
     },
     "metadata": {},
     "output_type": "display_data"
    }
   ],
   "source": [
    "#Exploring the the distribution of sleep hours per day\n",
    "ha_data_table['Sleep Hours Per Day'].value_counts().plot(kind='pie', autopct='%1.0f%%', labeldistance= 1.1)"
   ]
  },
  {
   "cell_type": "markdown",
   "id": "ca513049-6865-4e4b-903f-1b9f70de3c2b",
   "metadata": {},
   "source": [
    "### Exploring and Processing Nominal or Categorical Fields"
   ]
  },
  {
   "cell_type": "code",
   "execution_count": 25,
   "id": "a58c4615-0eb6-44a4-93c3-5039444212b7",
   "metadata": {},
   "outputs": [
    {
     "data": {
      "text/html": [
       "<div>\n",
       "<style scoped>\n",
       "    .dataframe tbody tr th:only-of-type {\n",
       "        vertical-align: middle;\n",
       "    }\n",
       "\n",
       "    .dataframe tbody tr th {\n",
       "        vertical-align: top;\n",
       "    }\n",
       "\n",
       "    .dataframe thead th {\n",
       "        text-align: right;\n",
       "    }\n",
       "</style>\n",
       "<table border=\"1\" class=\"dataframe\">\n",
       "  <thead>\n",
       "    <tr style=\"text-align: right;\">\n",
       "      <th></th>\n",
       "      <th>Patient ID</th>\n",
       "      <th>Sex</th>\n",
       "      <th>Blood Pressure</th>\n",
       "      <th>Diet</th>\n",
       "      <th>Country</th>\n",
       "      <th>Continent</th>\n",
       "      <th>Hemisphere</th>\n",
       "    </tr>\n",
       "  </thead>\n",
       "  <tbody>\n",
       "    <tr>\n",
       "      <th>count</th>\n",
       "      <td>8763</td>\n",
       "      <td>8763</td>\n",
       "      <td>8763</td>\n",
       "      <td>8763</td>\n",
       "      <td>8763</td>\n",
       "      <td>8763</td>\n",
       "      <td>8763</td>\n",
       "    </tr>\n",
       "    <tr>\n",
       "      <th>unique</th>\n",
       "      <td>8763</td>\n",
       "      <td>2</td>\n",
       "      <td>3915</td>\n",
       "      <td>3</td>\n",
       "      <td>20</td>\n",
       "      <td>6</td>\n",
       "      <td>2</td>\n",
       "    </tr>\n",
       "    <tr>\n",
       "      <th>top</th>\n",
       "      <td>BMW7812</td>\n",
       "      <td>Male</td>\n",
       "      <td>146/94</td>\n",
       "      <td>Healthy</td>\n",
       "      <td>Germany</td>\n",
       "      <td>Asia</td>\n",
       "      <td>Northern Hemisphere</td>\n",
       "    </tr>\n",
       "    <tr>\n",
       "      <th>freq</th>\n",
       "      <td>1</td>\n",
       "      <td>6111</td>\n",
       "      <td>8</td>\n",
       "      <td>2960</td>\n",
       "      <td>477</td>\n",
       "      <td>2543</td>\n",
       "      <td>5660</td>\n",
       "    </tr>\n",
       "  </tbody>\n",
       "</table>\n",
       "</div>"
      ],
      "text/plain": [
       "       Patient ID   Sex Blood Pressure     Diet  Country Continent  \\\n",
       "count        8763  8763           8763     8763     8763      8763   \n",
       "unique       8763     2           3915        3       20         6   \n",
       "top       BMW7812  Male         146/94  Healthy  Germany      Asia   \n",
       "freq            1  6111              8     2960      477      2543   \n",
       "\n",
       "                 Hemisphere  \n",
       "count                  8763  \n",
       "unique                    2  \n",
       "top     Northern Hemisphere  \n",
       "freq                   5660  "
      ]
     },
     "execution_count": 25,
     "metadata": {},
     "output_type": "execute_result"
    }
   ],
   "source": [
    "#Summary of categorical fields\n",
    "ha_data_table.describe(include = 'object')"
   ]
  },
  {
   "cell_type": "code",
   "execution_count": 26,
   "id": "b6ed1e97-e4cc-4bc2-9011-616178973382",
   "metadata": {},
   "outputs": [
    {
     "data": {
      "text/html": [
       "<div>\n",
       "<style scoped>\n",
       "    .dataframe tbody tr th:only-of-type {\n",
       "        vertical-align: middle;\n",
       "    }\n",
       "\n",
       "    .dataframe tbody tr th {\n",
       "        vertical-align: top;\n",
       "    }\n",
       "\n",
       "    .dataframe thead th {\n",
       "        text-align: right;\n",
       "    }\n",
       "</style>\n",
       "<table border=\"1\" class=\"dataframe\">\n",
       "  <thead>\n",
       "    <tr style=\"text-align: right;\">\n",
       "      <th></th>\n",
       "      <th>Age</th>\n",
       "      <th>Sex</th>\n",
       "      <th>Cholesterol</th>\n",
       "      <th>Blood Pressure</th>\n",
       "      <th>Heart Rate</th>\n",
       "      <th>Diabetes</th>\n",
       "      <th>Family History</th>\n",
       "      <th>Smoking</th>\n",
       "      <th>Obesity</th>\n",
       "      <th>Alcohol Consumption</th>\n",
       "      <th>...</th>\n",
       "      <th>Stress Level</th>\n",
       "      <th>Sedentary Hours Per Day</th>\n",
       "      <th>Income</th>\n",
       "      <th>BMI</th>\n",
       "      <th>Triglycerides</th>\n",
       "      <th>Sleep Hours Per Day</th>\n",
       "      <th>Country</th>\n",
       "      <th>Continent</th>\n",
       "      <th>Hemisphere</th>\n",
       "      <th>Heart Attack Risk</th>\n",
       "    </tr>\n",
       "  </thead>\n",
       "  <tbody>\n",
       "    <tr>\n",
       "      <th>0</th>\n",
       "      <td>67</td>\n",
       "      <td>Male</td>\n",
       "      <td>208</td>\n",
       "      <td>158/88</td>\n",
       "      <td>72</td>\n",
       "      <td>0</td>\n",
       "      <td>0</td>\n",
       "      <td>1</td>\n",
       "      <td>0</td>\n",
       "      <td>0</td>\n",
       "      <td>...</td>\n",
       "      <td>9</td>\n",
       "      <td>6.615001</td>\n",
       "      <td>261404</td>\n",
       "      <td>31.251233</td>\n",
       "      <td>286</td>\n",
       "      <td>6</td>\n",
       "      <td>Argentina</td>\n",
       "      <td>South America</td>\n",
       "      <td>Southern Hemisphere</td>\n",
       "      <td>0</td>\n",
       "    </tr>\n",
       "    <tr>\n",
       "      <th>1</th>\n",
       "      <td>21</td>\n",
       "      <td>Male</td>\n",
       "      <td>389</td>\n",
       "      <td>165/93</td>\n",
       "      <td>98</td>\n",
       "      <td>1</td>\n",
       "      <td>1</td>\n",
       "      <td>1</td>\n",
       "      <td>1</td>\n",
       "      <td>1</td>\n",
       "      <td>...</td>\n",
       "      <td>1</td>\n",
       "      <td>4.963459</td>\n",
       "      <td>285768</td>\n",
       "      <td>27.194973</td>\n",
       "      <td>235</td>\n",
       "      <td>7</td>\n",
       "      <td>Canada</td>\n",
       "      <td>North America</td>\n",
       "      <td>Northern Hemisphere</td>\n",
       "      <td>0</td>\n",
       "    </tr>\n",
       "    <tr>\n",
       "      <th>2</th>\n",
       "      <td>21</td>\n",
       "      <td>Female</td>\n",
       "      <td>324</td>\n",
       "      <td>174/99</td>\n",
       "      <td>72</td>\n",
       "      <td>1</td>\n",
       "      <td>0</td>\n",
       "      <td>0</td>\n",
       "      <td>0</td>\n",
       "      <td>0</td>\n",
       "      <td>...</td>\n",
       "      <td>9</td>\n",
       "      <td>9.463426</td>\n",
       "      <td>235282</td>\n",
       "      <td>28.176571</td>\n",
       "      <td>587</td>\n",
       "      <td>4</td>\n",
       "      <td>France</td>\n",
       "      <td>Europe</td>\n",
       "      <td>Northern Hemisphere</td>\n",
       "      <td>0</td>\n",
       "    </tr>\n",
       "    <tr>\n",
       "      <th>3</th>\n",
       "      <td>84</td>\n",
       "      <td>Male</td>\n",
       "      <td>383</td>\n",
       "      <td>163/100</td>\n",
       "      <td>73</td>\n",
       "      <td>1</td>\n",
       "      <td>1</td>\n",
       "      <td>1</td>\n",
       "      <td>0</td>\n",
       "      <td>1</td>\n",
       "      <td>...</td>\n",
       "      <td>9</td>\n",
       "      <td>7.648981</td>\n",
       "      <td>125640</td>\n",
       "      <td>36.464704</td>\n",
       "      <td>378</td>\n",
       "      <td>4</td>\n",
       "      <td>Canada</td>\n",
       "      <td>North America</td>\n",
       "      <td>Northern Hemisphere</td>\n",
       "      <td>0</td>\n",
       "    </tr>\n",
       "    <tr>\n",
       "      <th>4</th>\n",
       "      <td>66</td>\n",
       "      <td>Male</td>\n",
       "      <td>318</td>\n",
       "      <td>91/88</td>\n",
       "      <td>93</td>\n",
       "      <td>1</td>\n",
       "      <td>1</td>\n",
       "      <td>1</td>\n",
       "      <td>1</td>\n",
       "      <td>0</td>\n",
       "      <td>...</td>\n",
       "      <td>6</td>\n",
       "      <td>1.514821</td>\n",
       "      <td>160555</td>\n",
       "      <td>21.809144</td>\n",
       "      <td>231</td>\n",
       "      <td>5</td>\n",
       "      <td>Thailand</td>\n",
       "      <td>Asia</td>\n",
       "      <td>Northern Hemisphere</td>\n",
       "      <td>0</td>\n",
       "    </tr>\n",
       "  </tbody>\n",
       "</table>\n",
       "<p>5 rows × 24 columns</p>\n",
       "</div>"
      ],
      "text/plain": [
       "   Age     Sex  Cholesterol Blood Pressure  Heart Rate  Diabetes  \\\n",
       "0   67    Male          208         158/88          72         0   \n",
       "1   21    Male          389         165/93          98         1   \n",
       "2   21  Female          324         174/99          72         1   \n",
       "3   84    Male          383        163/100          73         1   \n",
       "4   66    Male          318          91/88          93         1   \n",
       "\n",
       "   Family History  Smoking  Obesity  Alcohol Consumption  ...  Stress Level  \\\n",
       "0               0        1        0                    0  ...             9   \n",
       "1               1        1        1                    1  ...             1   \n",
       "2               0        0        0                    0  ...             9   \n",
       "3               1        1        0                    1  ...             9   \n",
       "4               1        1        1                    0  ...             6   \n",
       "\n",
       "  Sedentary Hours Per Day  Income        BMI  Triglycerides  \\\n",
       "0                6.615001  261404  31.251233            286   \n",
       "1                4.963459  285768  27.194973            235   \n",
       "2                9.463426  235282  28.176571            587   \n",
       "3                7.648981  125640  36.464704            378   \n",
       "4                1.514821  160555  21.809144            231   \n",
       "\n",
       "   Sleep Hours Per Day    Country      Continent           Hemisphere  \\\n",
       "0                    6  Argentina  South America  Southern Hemisphere   \n",
       "1                    7     Canada  North America  Northern Hemisphere   \n",
       "2                    4     France         Europe  Northern Hemisphere   \n",
       "3                    4     Canada  North America  Northern Hemisphere   \n",
       "4                    5   Thailand           Asia  Northern Hemisphere   \n",
       "\n",
       "   Heart Attack Risk  \n",
       "0                  0  \n",
       "1                  0  \n",
       "2                  0  \n",
       "3                  0  \n",
       "4                  0  \n",
       "\n",
       "[5 rows x 24 columns]"
      ]
     },
     "execution_count": 26,
     "metadata": {},
     "output_type": "execute_result"
    }
   ],
   "source": [
    "#Removing \"Patient ID\" Column, does not affect prediction of heart attack risk\n",
    "del ha_data_table['Patient ID']\n",
    "\n",
    "#Check if column is deleted\n",
    "ha_data_table.head()"
   ]
  },
  {
   "cell_type": "code",
   "execution_count": 27,
   "id": "efa6eaa9-01cb-4c6a-bf7e-d7fd8d20f319",
   "metadata": {},
   "outputs": [
    {
     "name": "stdout",
     "output_type": "stream",
     "text": [
      "Sex\n",
      "0    2652\n",
      "1    6111\n",
      "dtype: int64\n"
     ]
    }
   ],
   "source": [
    "#Changing \"Sex\" Column to Numeric for Model to understand\n",
    "# Mapping 'Female' to 0 and 'Male' to 1 \n",
    "ha_data_table['Sex'] = ha_data_table['Sex'].map({'Female': 0, 'Male': 1})\n",
    "\n",
    "#Gender distribution\n",
    "print(ha_data_table.groupby('Sex').size())"
   ]
  },
  {
   "cell_type": "code",
   "execution_count": 28,
   "id": "df0dc4c8-8000-4ac0-867d-1c206db42018",
   "metadata": {},
   "outputs": [
    {
     "data": {
      "image/png": "[encoded data removed]",
      "text/plain": [
       "<Figure size 432x288 with 1 Axes>"
      ]
     },
     "metadata": {},
     "output_type": "display_data"
    },
    {
     "data": {
      "image/png": "[encoded data removed]",
      "text/plain": [
       "<Figure size 432x288 with 1 Axes>"
      ]
     },
     "metadata": {},
     "output_type": "display_data"
    }
   ],
   "source": [
    "#Exploring heart attack risks for the different genders\n",
    "\n",
    "# Filter the dataset for males and females\n",
    "male_data = ha_data_table[ha_data_table['Sex'] == 1]\n",
    "female_data = ha_data_table[ha_data_table['Sex'] == 0]\n",
    "\n",
    "# Function to plot the pie chart\n",
    "def plot_pie_chart(data, title):\n",
    "    \n",
    "    labels = ['No Heart Attack Risk', 'Heart Attack Risk']\n",
    "    \n",
    "    # Calculate the percentage distribution of heart attack risk categories in the given data\n",
    "    sizes = data['Heart Attack Risk'].value_counts(normalize=True) * 100\n",
    "    # Green for No Risk, Red for Risk\n",
    "    colors = ['#66ffb0', '#ff9999']\n",
    "    # Leaving a space between the 2 categorys in target variable \"Heart Attack Risk\" for better visualization\n",
    "    explode = (0.1, 0)  \n",
    "\n",
    "    plt.pie(sizes, labels=labels, autopct='%1.1f%%', colors=colors, explode=explode, startangle=90)\n",
    "    plt.title(title)\n",
    "    plt.axis('equal')  # Equal aspect ratio ensures that pie is drawn as a circle\n",
    "    plt.show()\n",
    "\n",
    "# Plot pie charts for males and females\n",
    "plot_pie_chart(male_data, 'Heart Attack Risk Distribution - Males')\n",
    "plot_pie_chart(female_data, 'Heart Attack Risk Distribution - Females')"
   ]
  },
  {
   "cell_type": "code",
   "execution_count": 29,
   "id": "84671129-096f-4721-bbb2-17f8ee6627a9",
   "metadata": {},
   "outputs": [
    {
     "data": {
      "text/html": [
       "<div>\n",
       "<style scoped>\n",
       "    .dataframe tbody tr th:only-of-type {\n",
       "        vertical-align: middle;\n",
       "    }\n",
       "\n",
       "    .dataframe tbody tr th {\n",
       "        vertical-align: top;\n",
       "    }\n",
       "\n",
       "    .dataframe thead th {\n",
       "        text-align: right;\n",
       "    }\n",
       "</style>\n",
       "<table border=\"1\" class=\"dataframe\">\n",
       "  <thead>\n",
       "    <tr style=\"text-align: right;\">\n",
       "      <th></th>\n",
       "      <th>Age</th>\n",
       "      <th>Sex</th>\n",
       "      <th>Cholesterol</th>\n",
       "      <th>Heart Rate</th>\n",
       "      <th>Diabetes</th>\n",
       "      <th>Family History</th>\n",
       "      <th>Smoking</th>\n",
       "      <th>Obesity</th>\n",
       "      <th>Alcohol Consumption</th>\n",
       "      <th>Exercise Hours Per Week</th>\n",
       "      <th>...</th>\n",
       "      <th>Income</th>\n",
       "      <th>BMI</th>\n",
       "      <th>Triglycerides</th>\n",
       "      <th>Sleep Hours Per Day</th>\n",
       "      <th>Country</th>\n",
       "      <th>Continent</th>\n",
       "      <th>Hemisphere</th>\n",
       "      <th>Heart Attack Risk</th>\n",
       "      <th>Systolic</th>\n",
       "      <th>Diastolic</th>\n",
       "    </tr>\n",
       "  </thead>\n",
       "  <tbody>\n",
       "    <tr>\n",
       "      <th>0</th>\n",
       "      <td>67</td>\n",
       "      <td>1</td>\n",
       "      <td>208</td>\n",
       "      <td>72</td>\n",
       "      <td>0</td>\n",
       "      <td>0</td>\n",
       "      <td>1</td>\n",
       "      <td>0</td>\n",
       "      <td>0</td>\n",
       "      <td>4.168189</td>\n",
       "      <td>...</td>\n",
       "      <td>261404</td>\n",
       "      <td>31.251233</td>\n",
       "      <td>286</td>\n",
       "      <td>6</td>\n",
       "      <td>Argentina</td>\n",
       "      <td>South America</td>\n",
       "      <td>Southern Hemisphere</td>\n",
       "      <td>0</td>\n",
       "      <td>158</td>\n",
       "      <td>88</td>\n",
       "    </tr>\n",
       "    <tr>\n",
       "      <th>1</th>\n",
       "      <td>21</td>\n",
       "      <td>1</td>\n",
       "      <td>389</td>\n",
       "      <td>98</td>\n",
       "      <td>1</td>\n",
       "      <td>1</td>\n",
       "      <td>1</td>\n",
       "      <td>1</td>\n",
       "      <td>1</td>\n",
       "      <td>1.813242</td>\n",
       "      <td>...</td>\n",
       "      <td>285768</td>\n",
       "      <td>27.194973</td>\n",
       "      <td>235</td>\n",
       "      <td>7</td>\n",
       "      <td>Canada</td>\n",
       "      <td>North America</td>\n",
       "      <td>Northern Hemisphere</td>\n",
       "      <td>0</td>\n",
       "      <td>165</td>\n",
       "      <td>93</td>\n",
       "    </tr>\n",
       "    <tr>\n",
       "      <th>2</th>\n",
       "      <td>21</td>\n",
       "      <td>0</td>\n",
       "      <td>324</td>\n",
       "      <td>72</td>\n",
       "      <td>1</td>\n",
       "      <td>0</td>\n",
       "      <td>0</td>\n",
       "      <td>0</td>\n",
       "      <td>0</td>\n",
       "      <td>2.078353</td>\n",
       "      <td>...</td>\n",
       "      <td>235282</td>\n",
       "      <td>28.176571</td>\n",
       "      <td>587</td>\n",
       "      <td>4</td>\n",
       "      <td>France</td>\n",
       "      <td>Europe</td>\n",
       "      <td>Northern Hemisphere</td>\n",
       "      <td>0</td>\n",
       "      <td>174</td>\n",
       "      <td>99</td>\n",
       "    </tr>\n",
       "    <tr>\n",
       "      <th>3</th>\n",
       "      <td>84</td>\n",
       "      <td>1</td>\n",
       "      <td>383</td>\n",
       "      <td>73</td>\n",
       "      <td>1</td>\n",
       "      <td>1</td>\n",
       "      <td>1</td>\n",
       "      <td>0</td>\n",
       "      <td>1</td>\n",
       "      <td>9.828130</td>\n",
       "      <td>...</td>\n",
       "      <td>125640</td>\n",
       "      <td>36.464704</td>\n",
       "      <td>378</td>\n",
       "      <td>4</td>\n",
       "      <td>Canada</td>\n",
       "      <td>North America</td>\n",
       "      <td>Northern Hemisphere</td>\n",
       "      <td>0</td>\n",
       "      <td>163</td>\n",
       "      <td>100</td>\n",
       "    </tr>\n",
       "    <tr>\n",
       "      <th>4</th>\n",
       "      <td>66</td>\n",
       "      <td>1</td>\n",
       "      <td>318</td>\n",
       "      <td>93</td>\n",
       "      <td>1</td>\n",
       "      <td>1</td>\n",
       "      <td>1</td>\n",
       "      <td>1</td>\n",
       "      <td>0</td>\n",
       "      <td>5.804299</td>\n",
       "      <td>...</td>\n",
       "      <td>160555</td>\n",
       "      <td>21.809144</td>\n",
       "      <td>231</td>\n",
       "      <td>5</td>\n",
       "      <td>Thailand</td>\n",
       "      <td>Asia</td>\n",
       "      <td>Northern Hemisphere</td>\n",
       "      <td>0</td>\n",
       "      <td>91</td>\n",
       "      <td>88</td>\n",
       "    </tr>\n",
       "  </tbody>\n",
       "</table>\n",
       "<p>5 rows × 25 columns</p>\n",
       "</div>"
      ],
      "text/plain": [
       "   Age  Sex  Cholesterol  Heart Rate  Diabetes  Family History  Smoking  \\\n",
       "0   67    1          208          72         0               0        1   \n",
       "1   21    1          389          98         1               1        1   \n",
       "2   21    0          324          72         1               0        0   \n",
       "3   84    1          383          73         1               1        1   \n",
       "4   66    1          318          93         1               1        1   \n",
       "\n",
       "   Obesity  Alcohol Consumption  Exercise Hours Per Week  ...  Income  \\\n",
       "0        0                    0                 4.168189  ...  261404   \n",
       "1        1                    1                 1.813242  ...  285768   \n",
       "2        0                    0                 2.078353  ...  235282   \n",
       "3        0                    1                 9.828130  ...  125640   \n",
       "4        1                    0                 5.804299  ...  160555   \n",
       "\n",
       "         BMI  Triglycerides  Sleep Hours Per Day    Country      Continent  \\\n",
       "0  31.251233            286                    6  Argentina  South America   \n",
       "1  27.194973            235                    7     Canada  North America   \n",
       "2  28.176571            587                    4     France         Europe   \n",
       "3  36.464704            378                    4     Canada  North America   \n",
       "4  21.809144            231                    5   Thailand           Asia   \n",
       "\n",
       "            Hemisphere  Heart Attack Risk  Systolic Diastolic  \n",
       "0  Southern Hemisphere                  0       158        88  \n",
       "1  Northern Hemisphere                  0       165        93  \n",
       "2  Northern Hemisphere                  0       174        99  \n",
       "3  Northern Hemisphere                  0       163       100  \n",
       "4  Northern Hemisphere                  0        91        88  \n",
       "\n",
       "[5 rows x 25 columns]"
      ]
     },
     "execution_count": 29,
     "metadata": {},
     "output_type": "execute_result"
    }
   ],
   "source": [
    "# Splitting 'Blood Pressure' into 'Systolic' and 'Diastolic' columns using panda library str.split() method\n",
    "ha_data_table[['Systolic', 'Diastolic']] = ha_data_table['Blood Pressure'].str.split('/', expand=True).astype(int)\n",
    "\n",
    "#Removing 'Blood Pressure' Column\n",
    "del ha_data_table['Blood Pressure']\n",
    "\n",
    "#Check\n",
    "ha_data_table.head()"
   ]
  },
  {
   "cell_type": "code",
   "execution_count": 30,
   "id": "a22bb1fe-9ffb-41d6-9f5c-886e35895825",
   "metadata": {},
   "outputs": [
    {
     "data": {
      "text/plain": [
       "Germany           477\n",
       "Argentina         471\n",
       "Brazil            462\n",
       "United Kingdom    457\n",
       "Australia         449\n",
       "Nigeria           448\n",
       "France            446\n",
       "Canada            440\n",
       "China             436\n",
       "New Zealand       435\n",
       "Japan             433\n",
       "Italy             431\n",
       "Spain             430\n",
       "Colombia          429\n",
       "Thailand          428\n",
       "South Africa      425\n",
       "Vietnam           425\n",
       "United States     420\n",
       "India             412\n",
       "South Korea       409\n",
       "Name: Country, dtype: int64"
      ]
     },
     "execution_count": 30,
     "metadata": {},
     "output_type": "execute_result"
    }
   ],
   "source": [
    "#using value_counts() to check the different amount of countries respectively\n",
    "ha_data_table['Country'].value_counts()"
   ]
  },
  {
   "cell_type": "code",
   "execution_count": 31,
   "id": "690e6a3f-001b-409e-a5d8-5b802dbbc834",
   "metadata": {},
   "outputs": [
    {
     "data": {
      "text/plain": [
       "Asia             2543\n",
       "Europe           2241\n",
       "South America    1362\n",
       "Australia         884\n",
       "Africa            873\n",
       "North America     860\n",
       "Name: Continent, dtype: int64"
      ]
     },
     "execution_count": 31,
     "metadata": {},
     "output_type": "execute_result"
    }
   ],
   "source": [
    "#using value_counts() to check the different amount of Continents respectively\n",
    "ha_data_table['Continent'].value_counts()"
   ]
  },
  {
   "cell_type": "code",
   "execution_count": 32,
   "id": "143a5bca-b5a4-4058-98b5-d9f391d59bb4",
   "metadata": {},
   "outputs": [
    {
     "data": {
      "text/plain": [
       "Northern Hemisphere    5660\n",
       "Southern Hemisphere    3103\n",
       "Name: Hemisphere, dtype: int64"
      ]
     },
     "execution_count": 32,
     "metadata": {},
     "output_type": "execute_result"
    }
   ],
   "source": [
    "#using value_counts() to check the different amount of Hemisphere respectively\n",
    "ha_data_table['Hemisphere'].value_counts()"
   ]
  },
  {
   "cell_type": "code",
   "execution_count": 33,
   "id": "ac22573f-7cfd-4579-a8f3-d39df7f407a2",
   "metadata": {},
   "outputs": [
    {
     "data": {
      "image/png": "[encoded data removed]",
      "text/plain": [
       "<Figure size 1152x576 with 1 Axes>"
      ]
     },
     "metadata": {
      "needs_background": "light"
     },
     "output_type": "display_data"
    }
   ],
   "source": [
    "# Bar plot for Country\n",
    "plt.figure(figsize=(16, 8))\n",
    "\n",
    "# Creating a count plot to visualize the distribution of 'Heart Attack Risk' within each 'Country'\n",
    "# The x-axis represents different countries, and the colors represent different heart attack risk categories\n",
    "# Each bar shows the count of individuals in each combination of country and heart attack risk category\n",
    "sns.countplot(x='Country', hue='Heart Attack Risk', data=ha_data_table)\n",
    "\n",
    "plt.title('Heart Attack Risk Distribution by Country')\n",
    "plt.xlabel('Country')\n",
    "plt.ylabel('Count')\n",
    "plt.xticks(rotation=45, ha='right')  # Rotate x-axis labels for better visibility\n",
    "plt.show()"
   ]
  },
  {
   "cell_type": "code",
   "execution_count": 34,
   "id": "0942bc91-f780-496c-a6c2-d2a9dd29d699",
   "metadata": {},
   "outputs": [
    {
     "data": {
      "image/png": "[encoded data removed]",
      "text/plain": [
       "<Figure size 720x360 with 1 Axes>"
      ]
     },
     "metadata": {
      "needs_background": "light"
     },
     "output_type": "display_data"
    }
   ],
   "source": [
    "# Bar plot for Continent\n",
    "plt.figure(figsize=(10, 5))\n",
    "\n",
    "# Creating a count plot to visualize the distribution of 'Heart Attack Risk' within each 'Hemisphere'\n",
    "# The x-axis represents different continents, and the colors represent different heart attack risk categories\n",
    "# Each bar shows the count of individuals in each combination of continents and heart attack risk category\n",
    "sns.countplot(x='Continent', hue='Heart Attack Risk', data=ha_data_table)\n",
    "\n",
    "plt.title('Heart Attack Risk Distribution by Continent')\n",
    "plt.xlabel('Continent')\n",
    "plt.ylabel('Count')\n",
    "plt.show()"
   ]
  },
  {
   "cell_type": "code",
   "execution_count": 35,
   "id": "10747d8f-7cc3-4766-9cc6-c0c2df322520",
   "metadata": {},
   "outputs": [
    {
     "data": {
      "image/png": "[encoded data removed]",
      "text/plain": [
       "<Figure size 576x288 with 1 Axes>"
      ]
     },
     "metadata": {
      "needs_background": "light"
     },
     "output_type": "display_data"
    }
   ],
   "source": [
    "# Bar plot for Hemisphere\n",
    "plt.figure(figsize=(8, 4))\n",
    "\n",
    "# Creating a count plot to visualize the distribution of 'Heart Attack Risk' within each 'Hemisphere'\n",
    "# The x-axis represents different hemisphere, and the colors represent different heart attack risk categories\n",
    "# Each bar shows the count of individuals in each combination of hemisphere and heart attack risk category\n",
    "sns.countplot(x='Hemisphere', hue='Heart Attack Risk', data=ha_data_table)\n",
    "\n",
    "plt.title('Heart Attack Risk Distribution by Hemisphere')\n",
    "plt.xlabel('Hemisphere')\n",
    "plt.ylabel('Count')\n",
    "plt.show()"
   ]
  },
  {
   "cell_type": "markdown",
   "id": "d8e6c76d-9352-4c44-8810-2ec2f08876c3",
   "metadata": {
    "tags": []
   },
   "source": [
    "#### By looking at the 3 bar plots above, the decision was made to exclude the 'Country', 'Continent' and 'Hemisphere' columns from the dataset. The rationale behind this choice comes from the observation that these geographical features have a limited coverage, with the dataset not encompassing all possible countries or continents. When I looked at the numbers, I noticed that for most countries, continents and Hemisphere, the number of people with a heart attack risk was just a bit more than half of those without this risk. This pattern was pretty much the same everywhere. The uniformity of this trend across various geographical regions led to the decision to remove these columns to enhance model simplicity, promote generalization, and mitigate challenges associated with out-of-distribution scenarios."
   ]
  },
  {
   "cell_type": "code",
   "execution_count": 36,
   "id": "3a0ac117-4ec2-4138-b0c0-4e1fe2077348",
   "metadata": {},
   "outputs": [
    {
     "data": {
      "text/html": [
       "<div>\n",
       "<style scoped>\n",
       "    .dataframe tbody tr th:only-of-type {\n",
       "        vertical-align: middle;\n",
       "    }\n",
       "\n",
       "    .dataframe tbody tr th {\n",
       "        vertical-align: top;\n",
       "    }\n",
       "\n",
       "    .dataframe thead th {\n",
       "        text-align: right;\n",
       "    }\n",
       "</style>\n",
       "<table border=\"1\" class=\"dataframe\">\n",
       "  <thead>\n",
       "    <tr style=\"text-align: right;\">\n",
       "      <th></th>\n",
       "      <th>Age</th>\n",
       "      <th>Sex</th>\n",
       "      <th>Cholesterol</th>\n",
       "      <th>Heart Rate</th>\n",
       "      <th>Diabetes</th>\n",
       "      <th>Family History</th>\n",
       "      <th>Smoking</th>\n",
       "      <th>Obesity</th>\n",
       "      <th>Alcohol Consumption</th>\n",
       "      <th>Exercise Hours Per Week</th>\n",
       "      <th>...</th>\n",
       "      <th>Medication Use</th>\n",
       "      <th>Stress Level</th>\n",
       "      <th>Sedentary Hours Per Day</th>\n",
       "      <th>Income</th>\n",
       "      <th>BMI</th>\n",
       "      <th>Triglycerides</th>\n",
       "      <th>Sleep Hours Per Day</th>\n",
       "      <th>Heart Attack Risk</th>\n",
       "      <th>Systolic</th>\n",
       "      <th>Diastolic</th>\n",
       "    </tr>\n",
       "  </thead>\n",
       "  <tbody>\n",
       "    <tr>\n",
       "      <th>0</th>\n",
       "      <td>67</td>\n",
       "      <td>1</td>\n",
       "      <td>208</td>\n",
       "      <td>72</td>\n",
       "      <td>0</td>\n",
       "      <td>0</td>\n",
       "      <td>1</td>\n",
       "      <td>0</td>\n",
       "      <td>0</td>\n",
       "      <td>4.168189</td>\n",
       "      <td>...</td>\n",
       "      <td>0</td>\n",
       "      <td>9</td>\n",
       "      <td>6.615001</td>\n",
       "      <td>261404</td>\n",
       "      <td>31.251233</td>\n",
       "      <td>286</td>\n",
       "      <td>6</td>\n",
       "      <td>0</td>\n",
       "      <td>158</td>\n",
       "      <td>88</td>\n",
       "    </tr>\n",
       "    <tr>\n",
       "      <th>1</th>\n",
       "      <td>21</td>\n",
       "      <td>1</td>\n",
       "      <td>389</td>\n",
       "      <td>98</td>\n",
       "      <td>1</td>\n",
       "      <td>1</td>\n",
       "      <td>1</td>\n",
       "      <td>1</td>\n",
       "      <td>1</td>\n",
       "      <td>1.813242</td>\n",
       "      <td>...</td>\n",
       "      <td>0</td>\n",
       "      <td>1</td>\n",
       "      <td>4.963459</td>\n",
       "      <td>285768</td>\n",
       "      <td>27.194973</td>\n",
       "      <td>235</td>\n",
       "      <td>7</td>\n",
       "      <td>0</td>\n",
       "      <td>165</td>\n",
       "      <td>93</td>\n",
       "    </tr>\n",
       "    <tr>\n",
       "      <th>2</th>\n",
       "      <td>21</td>\n",
       "      <td>0</td>\n",
       "      <td>324</td>\n",
       "      <td>72</td>\n",
       "      <td>1</td>\n",
       "      <td>0</td>\n",
       "      <td>0</td>\n",
       "      <td>0</td>\n",
       "      <td>0</td>\n",
       "      <td>2.078353</td>\n",
       "      <td>...</td>\n",
       "      <td>1</td>\n",
       "      <td>9</td>\n",
       "      <td>9.463426</td>\n",
       "      <td>235282</td>\n",
       "      <td>28.176571</td>\n",
       "      <td>587</td>\n",
       "      <td>4</td>\n",
       "      <td>0</td>\n",
       "      <td>174</td>\n",
       "      <td>99</td>\n",
       "    </tr>\n",
       "    <tr>\n",
       "      <th>3</th>\n",
       "      <td>84</td>\n",
       "      <td>1</td>\n",
       "      <td>383</td>\n",
       "      <td>73</td>\n",
       "      <td>1</td>\n",
       "      <td>1</td>\n",
       "      <td>1</td>\n",
       "      <td>0</td>\n",
       "      <td>1</td>\n",
       "      <td>9.828130</td>\n",
       "      <td>...</td>\n",
       "      <td>0</td>\n",
       "      <td>9</td>\n",
       "      <td>7.648981</td>\n",
       "      <td>125640</td>\n",
       "      <td>36.464704</td>\n",
       "      <td>378</td>\n",
       "      <td>4</td>\n",
       "      <td>0</td>\n",
       "      <td>163</td>\n",
       "      <td>100</td>\n",
       "    </tr>\n",
       "    <tr>\n",
       "      <th>4</th>\n",
       "      <td>66</td>\n",
       "      <td>1</td>\n",
       "      <td>318</td>\n",
       "      <td>93</td>\n",
       "      <td>1</td>\n",
       "      <td>1</td>\n",
       "      <td>1</td>\n",
       "      <td>1</td>\n",
       "      <td>0</td>\n",
       "      <td>5.804299</td>\n",
       "      <td>...</td>\n",
       "      <td>0</td>\n",
       "      <td>6</td>\n",
       "      <td>1.514821</td>\n",
       "      <td>160555</td>\n",
       "      <td>21.809144</td>\n",
       "      <td>231</td>\n",
       "      <td>5</td>\n",
       "      <td>0</td>\n",
       "      <td>91</td>\n",
       "      <td>88</td>\n",
       "    </tr>\n",
       "  </tbody>\n",
       "</table>\n",
       "<p>5 rows × 22 columns</p>\n",
       "</div>"
      ],
      "text/plain": [
       "   Age  Sex  Cholesterol  Heart Rate  Diabetes  Family History  Smoking  \\\n",
       "0   67    1          208          72         0               0        1   \n",
       "1   21    1          389          98         1               1        1   \n",
       "2   21    0          324          72         1               0        0   \n",
       "3   84    1          383          73         1               1        1   \n",
       "4   66    1          318          93         1               1        1   \n",
       "\n",
       "   Obesity  Alcohol Consumption  Exercise Hours Per Week  ... Medication Use  \\\n",
       "0        0                    0                 4.168189  ...              0   \n",
       "1        1                    1                 1.813242  ...              0   \n",
       "2        0                    0                 2.078353  ...              1   \n",
       "3        0                    1                 9.828130  ...              0   \n",
       "4        1                    0                 5.804299  ...              0   \n",
       "\n",
       "   Stress Level  Sedentary Hours Per Day  Income        BMI  Triglycerides  \\\n",
       "0             9                 6.615001  261404  31.251233            286   \n",
       "1             1                 4.963459  285768  27.194973            235   \n",
       "2             9                 9.463426  235282  28.176571            587   \n",
       "3             9                 7.648981  125640  36.464704            378   \n",
       "4             6                 1.514821  160555  21.809144            231   \n",
       "\n",
       "   Sleep Hours Per Day  Heart Attack Risk  Systolic  Diastolic  \n",
       "0                    6                  0       158         88  \n",
       "1                    7                  0       165         93  \n",
       "2                    4                  0       174         99  \n",
       "3                    4                  0       163        100  \n",
       "4                    5                  0        91         88  \n",
       "\n",
       "[5 rows x 22 columns]"
      ]
     },
     "execution_count": 36,
     "metadata": {},
     "output_type": "execute_result"
    }
   ],
   "source": [
    "#Removing 'Country', 'Continent' and 'Hemisphere' Columns\n",
    "\n",
    "del ha_data_table['Country']\n",
    "del ha_data_table['Continent']\n",
    "del ha_data_table['Hemisphere']\n",
    "                  \n",
    "#Check\n",
    "ha_data_table.head()"
   ]
  },
  {
   "cell_type": "code",
   "execution_count": 37,
   "id": "155bee59-1017-4946-a9cf-794b6a6d5a28",
   "metadata": {},
   "outputs": [
    {
     "data": {
      "image/png": "[encoded data removed]",
      "text/plain": [
       "<Figure size 432x288 with 1 Axes>"
      ]
     },
     "metadata": {},
     "output_type": "display_data"
    },
    {
     "data": {
      "image/png": "[encoded data removed]",
      "text/plain": [
       "<Figure size 432x288 with 1 Axes>"
      ]
     },
     "metadata": {},
     "output_type": "display_data"
    },
    {
     "data": {
      "image/png": "[encoded data removed]",
      "text/plain": [
       "<Figure size 432x288 with 1 Axes>"
      ]
     },
     "metadata": {},
     "output_type": "display_data"
    }
   ],
   "source": [
    "#Exploring Heart Attack Risk for the different Diets\n",
    "\n",
    "\n",
    "# Filter the dataset for the diets\n",
    "healthy_data = ha_data_table[ha_data_table['Diet'] == \"Healthy\"]\n",
    "unhealthy_data = ha_data_table[ha_data_table['Diet'] == \"Unhealthy\"]\n",
    "average_data = ha_data_table[ha_data_table['Diet'] == \"Average\"]\n",
    "\n",
    "# Function to plot the pie chart\n",
    "def plot_pie_chart(data, title):\n",
    "    \n",
    "    labels = ['No Heart Attack Risk', 'Heart Attack Risk']\n",
    "    \n",
    "    # Calculate the percentage distribution of heart attack risk categories in the given data\n",
    "    sizes = data['Heart Attack Risk'].value_counts(normalize=True) * 100\n",
    "    # Green for No Risk, Red for Risk\n",
    "    colors = ['#66ffb0', '#ff9999']\n",
    "    # Leaving a space between the 2 categorys in target variable \"Heart Attack Risk\" for better visualization\n",
    "    explode = (0.1, 0)  \n",
    "\n",
    "    plt.pie(sizes, labels=labels, autopct='%1.1f%%', colors=colors, explode=explode, startangle=90)\n",
    "    plt.title(title)\n",
    "    plt.axis('equal')  # Equal aspect ratio ensures that pie is drawn as a circle\n",
    "    plt.show()\n",
    "\n",
    "# Plot pie charts for males and females\n",
    "plot_pie_chart(healthy_data, 'Heart Attack Risk Distribution - Healthy Diet')\n",
    "plot_pie_chart(unhealthy_data, 'Heart Attack Risk Distribution - Unhealthy Diet')\n",
    "plot_pie_chart(average_data, 'Heart Attack Risk Distribution - Average Diet')\n",
    "\n"
   ]
  },
  {
   "cell_type": "code",
   "execution_count": 38,
   "id": "2376f08b-56f5-4d25-94d2-631ce31f65c6",
   "metadata": {},
   "outputs": [
    {
     "data": {
      "text/html": [
       "<div>\n",
       "<style scoped>\n",
       "    .dataframe tbody tr th:only-of-type {\n",
       "        vertical-align: middle;\n",
       "    }\n",
       "\n",
       "    .dataframe tbody tr th {\n",
       "        vertical-align: top;\n",
       "    }\n",
       "\n",
       "    .dataframe thead th {\n",
       "        text-align: right;\n",
       "    }\n",
       "</style>\n",
       "<table border=\"1\" class=\"dataframe\">\n",
       "  <thead>\n",
       "    <tr style=\"text-align: right;\">\n",
       "      <th></th>\n",
       "      <th>Age</th>\n",
       "      <th>Sex</th>\n",
       "      <th>Cholesterol</th>\n",
       "      <th>Heart Rate</th>\n",
       "      <th>Diabetes</th>\n",
       "      <th>Family History</th>\n",
       "      <th>Smoking</th>\n",
       "      <th>Obesity</th>\n",
       "      <th>Alcohol Consumption</th>\n",
       "      <th>Exercise Hours Per Week</th>\n",
       "      <th>...</th>\n",
       "      <th>Income</th>\n",
       "      <th>BMI</th>\n",
       "      <th>Triglycerides</th>\n",
       "      <th>Sleep Hours Per Day</th>\n",
       "      <th>Heart Attack Risk</th>\n",
       "      <th>Systolic</th>\n",
       "      <th>Diastolic</th>\n",
       "      <th>Diet_Average</th>\n",
       "      <th>Diet_Healthy</th>\n",
       "      <th>Diet_Unhealthy</th>\n",
       "    </tr>\n",
       "  </thead>\n",
       "  <tbody>\n",
       "    <tr>\n",
       "      <th>0</th>\n",
       "      <td>67</td>\n",
       "      <td>1</td>\n",
       "      <td>208</td>\n",
       "      <td>72</td>\n",
       "      <td>0</td>\n",
       "      <td>0</td>\n",
       "      <td>1</td>\n",
       "      <td>0</td>\n",
       "      <td>0</td>\n",
       "      <td>4.168189</td>\n",
       "      <td>...</td>\n",
       "      <td>261404</td>\n",
       "      <td>31.251233</td>\n",
       "      <td>286</td>\n",
       "      <td>6</td>\n",
       "      <td>0</td>\n",
       "      <td>158</td>\n",
       "      <td>88</td>\n",
       "      <td>1</td>\n",
       "      <td>0</td>\n",
       "      <td>0</td>\n",
       "    </tr>\n",
       "    <tr>\n",
       "      <th>1</th>\n",
       "      <td>21</td>\n",
       "      <td>1</td>\n",
       "      <td>389</td>\n",
       "      <td>98</td>\n",
       "      <td>1</td>\n",
       "      <td>1</td>\n",
       "      <td>1</td>\n",
       "      <td>1</td>\n",
       "      <td>1</td>\n",
       "      <td>1.813242</td>\n",
       "      <td>...</td>\n",
       "      <td>285768</td>\n",
       "      <td>27.194973</td>\n",
       "      <td>235</td>\n",
       "      <td>7</td>\n",
       "      <td>0</td>\n",
       "      <td>165</td>\n",
       "      <td>93</td>\n",
       "      <td>0</td>\n",
       "      <td>0</td>\n",
       "      <td>1</td>\n",
       "    </tr>\n",
       "    <tr>\n",
       "      <th>2</th>\n",
       "      <td>21</td>\n",
       "      <td>0</td>\n",
       "      <td>324</td>\n",
       "      <td>72</td>\n",
       "      <td>1</td>\n",
       "      <td>0</td>\n",
       "      <td>0</td>\n",
       "      <td>0</td>\n",
       "      <td>0</td>\n",
       "      <td>2.078353</td>\n",
       "      <td>...</td>\n",
       "      <td>235282</td>\n",
       "      <td>28.176571</td>\n",
       "      <td>587</td>\n",
       "      <td>4</td>\n",
       "      <td>0</td>\n",
       "      <td>174</td>\n",
       "      <td>99</td>\n",
       "      <td>0</td>\n",
       "      <td>1</td>\n",
       "      <td>0</td>\n",
       "    </tr>\n",
       "    <tr>\n",
       "      <th>3</th>\n",
       "      <td>84</td>\n",
       "      <td>1</td>\n",
       "      <td>383</td>\n",
       "      <td>73</td>\n",
       "      <td>1</td>\n",
       "      <td>1</td>\n",
       "      <td>1</td>\n",
       "      <td>0</td>\n",
       "      <td>1</td>\n",
       "      <td>9.828130</td>\n",
       "      <td>...</td>\n",
       "      <td>125640</td>\n",
       "      <td>36.464704</td>\n",
       "      <td>378</td>\n",
       "      <td>4</td>\n",
       "      <td>0</td>\n",
       "      <td>163</td>\n",
       "      <td>100</td>\n",
       "      <td>1</td>\n",
       "      <td>0</td>\n",
       "      <td>0</td>\n",
       "    </tr>\n",
       "    <tr>\n",
       "      <th>4</th>\n",
       "      <td>66</td>\n",
       "      <td>1</td>\n",
       "      <td>318</td>\n",
       "      <td>93</td>\n",
       "      <td>1</td>\n",
       "      <td>1</td>\n",
       "      <td>1</td>\n",
       "      <td>1</td>\n",
       "      <td>0</td>\n",
       "      <td>5.804299</td>\n",
       "      <td>...</td>\n",
       "      <td>160555</td>\n",
       "      <td>21.809144</td>\n",
       "      <td>231</td>\n",
       "      <td>5</td>\n",
       "      <td>0</td>\n",
       "      <td>91</td>\n",
       "      <td>88</td>\n",
       "      <td>0</td>\n",
       "      <td>0</td>\n",
       "      <td>1</td>\n",
       "    </tr>\n",
       "  </tbody>\n",
       "</table>\n",
       "<p>5 rows × 24 columns</p>\n",
       "</div>"
      ],
      "text/plain": [
       "   Age  Sex  Cholesterol  Heart Rate  Diabetes  Family History  Smoking  \\\n",
       "0   67    1          208          72         0               0        1   \n",
       "1   21    1          389          98         1               1        1   \n",
       "2   21    0          324          72         1               0        0   \n",
       "3   84    1          383          73         1               1        1   \n",
       "4   66    1          318          93         1               1        1   \n",
       "\n",
       "   Obesity  Alcohol Consumption  Exercise Hours Per Week  ...  Income  \\\n",
       "0        0                    0                 4.168189  ...  261404   \n",
       "1        1                    1                 1.813242  ...  285768   \n",
       "2        0                    0                 2.078353  ...  235282   \n",
       "3        0                    1                 9.828130  ...  125640   \n",
       "4        1                    0                 5.804299  ...  160555   \n",
       "\n",
       "         BMI  Triglycerides  Sleep Hours Per Day  Heart Attack Risk  Systolic  \\\n",
       "0  31.251233            286                    6                  0       158   \n",
       "1  27.194973            235                    7                  0       165   \n",
       "2  28.176571            587                    4                  0       174   \n",
       "3  36.464704            378                    4                  0       163   \n",
       "4  21.809144            231                    5                  0        91   \n",
       "\n",
       "   Diastolic  Diet_Average  Diet_Healthy  Diet_Unhealthy  \n",
       "0         88             1             0               0  \n",
       "1         93             0             0               1  \n",
       "2         99             0             1               0  \n",
       "3        100             1             0               0  \n",
       "4         88             0             0               1  \n",
       "\n",
       "[5 rows x 24 columns]"
      ]
     },
     "execution_count": 38,
     "metadata": {},
     "output_type": "execute_result"
    }
   ],
   "source": [
    "#Applying one-hot encoding on categorical column \"Diet\"\n",
    "ha_data_table = pd.get_dummies(ha_data_table, columns = [\"Diet\"])\n",
    "\n",
    "ha_data_table.head()"
   ]
  },
  {
   "cell_type": "code",
   "execution_count": 39,
   "id": "181c3bac-f40b-48cd-94f8-8816f94f5d26",
   "metadata": {},
   "outputs": [
    {
     "data": {
      "text/html": [
       "<div>\n",
       "<style scoped>\n",
       "    .dataframe tbody tr th:only-of-type {\n",
       "        vertical-align: middle;\n",
       "    }\n",
       "\n",
       "    .dataframe tbody tr th {\n",
       "        vertical-align: top;\n",
       "    }\n",
       "\n",
       "    .dataframe thead th {\n",
       "        text-align: right;\n",
       "    }\n",
       "</style>\n",
       "<table border=\"1\" class=\"dataframe\">\n",
       "  <thead>\n",
       "    <tr style=\"text-align: right;\">\n",
       "      <th></th>\n",
       "      <th>Age</th>\n",
       "      <th>Sex</th>\n",
       "      <th>Cholesterol</th>\n",
       "      <th>Heart Rate</th>\n",
       "      <th>Diabetes</th>\n",
       "      <th>Family History</th>\n",
       "      <th>Smoking</th>\n",
       "      <th>Obesity</th>\n",
       "      <th>Alcohol Consumption</th>\n",
       "      <th>Exercise Hours Per Week</th>\n",
       "      <th>...</th>\n",
       "      <th>Income</th>\n",
       "      <th>BMI</th>\n",
       "      <th>Triglycerides</th>\n",
       "      <th>Sleep Hours Per Day</th>\n",
       "      <th>Heart Attack Risk</th>\n",
       "      <th>Systolic</th>\n",
       "      <th>Diastolic</th>\n",
       "      <th>Diet_Average</th>\n",
       "      <th>Diet_Healthy</th>\n",
       "      <th>Diet_Unhealthy</th>\n",
       "    </tr>\n",
       "  </thead>\n",
       "  <tbody>\n",
       "    <tr>\n",
       "      <th>count</th>\n",
       "      <td>8763.000000</td>\n",
       "      <td>8763.000000</td>\n",
       "      <td>8763.000000</td>\n",
       "      <td>8763.000000</td>\n",
       "      <td>8763.000000</td>\n",
       "      <td>8763.000000</td>\n",
       "      <td>8763.000000</td>\n",
       "      <td>8763.000000</td>\n",
       "      <td>8763.000000</td>\n",
       "      <td>8763.000000</td>\n",
       "      <td>...</td>\n",
       "      <td>8763.000000</td>\n",
       "      <td>8763.000000</td>\n",
       "      <td>8763.000000</td>\n",
       "      <td>8763.000000</td>\n",
       "      <td>8763.000000</td>\n",
       "      <td>8763.000000</td>\n",
       "      <td>8763.000000</td>\n",
       "      <td>8763.000000</td>\n",
       "      <td>8763.000000</td>\n",
       "      <td>8763.000000</td>\n",
       "    </tr>\n",
       "    <tr>\n",
       "      <th>mean</th>\n",
       "      <td>53.707977</td>\n",
       "      <td>0.697364</td>\n",
       "      <td>259.877211</td>\n",
       "      <td>75.021682</td>\n",
       "      <td>0.652288</td>\n",
       "      <td>0.492982</td>\n",
       "      <td>0.896839</td>\n",
       "      <td>0.501426</td>\n",
       "      <td>0.598083</td>\n",
       "      <td>10.014284</td>\n",
       "      <td>...</td>\n",
       "      <td>158263.181901</td>\n",
       "      <td>28.891446</td>\n",
       "      <td>417.677051</td>\n",
       "      <td>7.023508</td>\n",
       "      <td>0.358211</td>\n",
       "      <td>135.075659</td>\n",
       "      <td>85.156111</td>\n",
       "      <td>0.332306</td>\n",
       "      <td>0.337784</td>\n",
       "      <td>0.329910</td>\n",
       "    </tr>\n",
       "    <tr>\n",
       "      <th>std</th>\n",
       "      <td>21.249509</td>\n",
       "      <td>0.459425</td>\n",
       "      <td>80.863276</td>\n",
       "      <td>20.550948</td>\n",
       "      <td>0.476271</td>\n",
       "      <td>0.499979</td>\n",
       "      <td>0.304186</td>\n",
       "      <td>0.500026</td>\n",
       "      <td>0.490313</td>\n",
       "      <td>5.783745</td>\n",
       "      <td>...</td>\n",
       "      <td>80575.190806</td>\n",
       "      <td>6.319181</td>\n",
       "      <td>223.748137</td>\n",
       "      <td>1.988473</td>\n",
       "      <td>0.479502</td>\n",
       "      <td>26.349976</td>\n",
       "      <td>14.676565</td>\n",
       "      <td>0.471067</td>\n",
       "      <td>0.472981</td>\n",
       "      <td>0.470207</td>\n",
       "    </tr>\n",
       "    <tr>\n",
       "      <th>min</th>\n",
       "      <td>18.000000</td>\n",
       "      <td>0.000000</td>\n",
       "      <td>120.000000</td>\n",
       "      <td>40.000000</td>\n",
       "      <td>0.000000</td>\n",
       "      <td>0.000000</td>\n",
       "      <td>0.000000</td>\n",
       "      <td>0.000000</td>\n",
       "      <td>0.000000</td>\n",
       "      <td>0.002442</td>\n",
       "      <td>...</td>\n",
       "      <td>20062.000000</td>\n",
       "      <td>18.002337</td>\n",
       "      <td>30.000000</td>\n",
       "      <td>4.000000</td>\n",
       "      <td>0.000000</td>\n",
       "      <td>90.000000</td>\n",
       "      <td>60.000000</td>\n",
       "      <td>0.000000</td>\n",
       "      <td>0.000000</td>\n",
       "      <td>0.000000</td>\n",
       "    </tr>\n",
       "    <tr>\n",
       "      <th>25%</th>\n",
       "      <td>35.000000</td>\n",
       "      <td>0.000000</td>\n",
       "      <td>192.000000</td>\n",
       "      <td>57.000000</td>\n",
       "      <td>0.000000</td>\n",
       "      <td>0.000000</td>\n",
       "      <td>1.000000</td>\n",
       "      <td>0.000000</td>\n",
       "      <td>0.000000</td>\n",
       "      <td>4.981579</td>\n",
       "      <td>...</td>\n",
       "      <td>88310.000000</td>\n",
       "      <td>23.422985</td>\n",
       "      <td>225.500000</td>\n",
       "      <td>5.000000</td>\n",
       "      <td>0.000000</td>\n",
       "      <td>112.000000</td>\n",
       "      <td>72.000000</td>\n",
       "      <td>0.000000</td>\n",
       "      <td>0.000000</td>\n",
       "      <td>0.000000</td>\n",
       "    </tr>\n",
       "    <tr>\n",
       "      <th>50%</th>\n",
       "      <td>54.000000</td>\n",
       "      <td>1.000000</td>\n",
       "      <td>259.000000</td>\n",
       "      <td>75.000000</td>\n",
       "      <td>1.000000</td>\n",
       "      <td>0.000000</td>\n",
       "      <td>1.000000</td>\n",
       "      <td>1.000000</td>\n",
       "      <td>1.000000</td>\n",
       "      <td>10.069559</td>\n",
       "      <td>...</td>\n",
       "      <td>157866.000000</td>\n",
       "      <td>28.768999</td>\n",
       "      <td>417.000000</td>\n",
       "      <td>7.000000</td>\n",
       "      <td>0.000000</td>\n",
       "      <td>135.000000</td>\n",
       "      <td>85.000000</td>\n",
       "      <td>0.000000</td>\n",
       "      <td>0.000000</td>\n",
       "      <td>0.000000</td>\n",
       "    </tr>\n",
       "    <tr>\n",
       "      <th>75%</th>\n",
       "      <td>72.000000</td>\n",
       "      <td>1.000000</td>\n",
       "      <td>330.000000</td>\n",
       "      <td>93.000000</td>\n",
       "      <td>1.000000</td>\n",
       "      <td>1.000000</td>\n",
       "      <td>1.000000</td>\n",
       "      <td>1.000000</td>\n",
       "      <td>1.000000</td>\n",
       "      <td>15.050018</td>\n",
       "      <td>...</td>\n",
       "      <td>227749.000000</td>\n",
       "      <td>34.324594</td>\n",
       "      <td>612.000000</td>\n",
       "      <td>9.000000</td>\n",
       "      <td>1.000000</td>\n",
       "      <td>158.000000</td>\n",
       "      <td>98.000000</td>\n",
       "      <td>1.000000</td>\n",
       "      <td>1.000000</td>\n",
       "      <td>1.000000</td>\n",
       "    </tr>\n",
       "    <tr>\n",
       "      <th>max</th>\n",
       "      <td>90.000000</td>\n",
       "      <td>1.000000</td>\n",
       "      <td>400.000000</td>\n",
       "      <td>110.000000</td>\n",
       "      <td>1.000000</td>\n",
       "      <td>1.000000</td>\n",
       "      <td>1.000000</td>\n",
       "      <td>1.000000</td>\n",
       "      <td>1.000000</td>\n",
       "      <td>19.998709</td>\n",
       "      <td>...</td>\n",
       "      <td>299954.000000</td>\n",
       "      <td>39.997211</td>\n",
       "      <td>800.000000</td>\n",
       "      <td>10.000000</td>\n",
       "      <td>1.000000</td>\n",
       "      <td>180.000000</td>\n",
       "      <td>110.000000</td>\n",
       "      <td>1.000000</td>\n",
       "      <td>1.000000</td>\n",
       "      <td>1.000000</td>\n",
       "    </tr>\n",
       "  </tbody>\n",
       "</table>\n",
       "<p>8 rows × 24 columns</p>\n",
       "</div>"
      ],
      "text/plain": [
       "               Age          Sex  Cholesterol   Heart Rate     Diabetes  \\\n",
       "count  8763.000000  8763.000000  8763.000000  8763.000000  8763.000000   \n",
       "mean     53.707977     0.697364   259.877211    75.021682     0.652288   \n",
       "std      21.249509     0.459425    80.863276    20.550948     0.476271   \n",
       "min      18.000000     0.000000   120.000000    40.000000     0.000000   \n",
       "25%      35.000000     0.000000   192.000000    57.000000     0.000000   \n",
       "50%      54.000000     1.000000   259.000000    75.000000     1.000000   \n",
       "75%      72.000000     1.000000   330.000000    93.000000     1.000000   \n",
       "max      90.000000     1.000000   400.000000   110.000000     1.000000   \n",
       "\n",
       "       Family History      Smoking      Obesity  Alcohol Consumption  \\\n",
       "count     8763.000000  8763.000000  8763.000000          8763.000000   \n",
       "mean         0.492982     0.896839     0.501426             0.598083   \n",
       "std          0.499979     0.304186     0.500026             0.490313   \n",
       "min          0.000000     0.000000     0.000000             0.000000   \n",
       "25%          0.000000     1.000000     0.000000             0.000000   \n",
       "50%          0.000000     1.000000     1.000000             1.000000   \n",
       "75%          1.000000     1.000000     1.000000             1.000000   \n",
       "max          1.000000     1.000000     1.000000             1.000000   \n",
       "\n",
       "       Exercise Hours Per Week  ...         Income          BMI  \\\n",
       "count              8763.000000  ...    8763.000000  8763.000000   \n",
       "mean                 10.014284  ...  158263.181901    28.891446   \n",
       "std                   5.783745  ...   80575.190806     6.319181   \n",
       "min                   0.002442  ...   20062.000000    18.002337   \n",
       "25%                   4.981579  ...   88310.000000    23.422985   \n",
       "50%                  10.069559  ...  157866.000000    28.768999   \n",
       "75%                  15.050018  ...  227749.000000    34.324594   \n",
       "max                  19.998709  ...  299954.000000    39.997211   \n",
       "\n",
       "       Triglycerides  Sleep Hours Per Day  Heart Attack Risk     Systolic  \\\n",
       "count    8763.000000          8763.000000        8763.000000  8763.000000   \n",
       "mean      417.677051             7.023508           0.358211   135.075659   \n",
       "std       223.748137             1.988473           0.479502    26.349976   \n",
       "min        30.000000             4.000000           0.000000    90.000000   \n",
       "25%       225.500000             5.000000           0.000000   112.000000   \n",
       "50%       417.000000             7.000000           0.000000   135.000000   \n",
       "75%       612.000000             9.000000           1.000000   158.000000   \n",
       "max       800.000000            10.000000           1.000000   180.000000   \n",
       "\n",
       "         Diastolic  Diet_Average  Diet_Healthy  Diet_Unhealthy  \n",
       "count  8763.000000   8763.000000   8763.000000     8763.000000  \n",
       "mean     85.156111      0.332306      0.337784        0.329910  \n",
       "std      14.676565      0.471067      0.472981        0.470207  \n",
       "min      60.000000      0.000000      0.000000        0.000000  \n",
       "25%      72.000000      0.000000      0.000000        0.000000  \n",
       "50%      85.000000      0.000000      0.000000        0.000000  \n",
       "75%      98.000000      1.000000      1.000000        1.000000  \n",
       "max     110.000000      1.000000      1.000000        1.000000  \n",
       "\n",
       "[8 rows x 24 columns]"
      ]
     },
     "execution_count": 39,
     "metadata": {},
     "output_type": "execute_result"
    }
   ],
   "source": [
    "#Check if all columns or fields are now Numeric and not Nominal or Categorical\n",
    "ha_data_table.describe()"
   ]
  },
  {
   "cell_type": "markdown",
   "id": "e2e8ef2f-8316-499e-ab16-a86da5e6a257",
   "metadata": {},
   "source": [
    "## Exporting the Cleaned Dataset to a new CSV File for Model Training"
   ]
  },
  {
   "cell_type": "code",
   "execution_count": 40,
   "id": "c1ce92d7-620f-4fcb-b15b-076ec7139807",
   "metadata": {},
   "outputs": [],
   "source": [
    "ha_data_table.to_csv('data/heart_attack_prediction_cleaned_dataset.csv', index=False)"
   ]
  }
 ],
 "metadata": {
  "kernelspec": {
   "display_name": "Python 3 (ipykernel)",
   "language": "python",
   "name": "python3"
  },
  "language_info": {
   "codemirror_mode": {
    "name": "ipython",
    "version": 3
   },
   "file_extension": ".py",
   "mimetype": "text/x-python",
   "name": "python",
   "nbconvert_exporter": "python",
   "pygments_lexer": "ipython3",
   "version": "3.9.12"
  }
 },
 "nbformat": 4,
 "nbformat_minor": 5
}
