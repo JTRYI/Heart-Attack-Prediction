{
 "cells": [
  {
   "cell_type": "code",
   "execution_count": 1,
   "id": "e314e623-787c-434e-9947-4be06f6e3954",
   "metadata": {
    "tags": []
   },
   "outputs": [],
   "source": [
    "# Import the libraies\n",
    "import numpy as np\n",
    "from flask import Flask, request, render_template\n",
    "import joblib\n"
   ]
  },
  {
   "cell_type": "code",
   "execution_count": 2,
   "id": "52f24b29-68a5-472e-ba69-66e54d93acde",
   "metadata": {
    "tags": []
   },
   "outputs": [],
   "source": [
    "# Create the Flask app and load the trained model\n",
    "app = Flask(__name__)\n",
    "model = joblib.load('models/model_rf.pk1')\n"
   ]
  },
  {
   "cell_type": "code",
   "execution_count": 3,
   "id": "a79aa1a3-6d6b-4c12-b2b9-615a0fb0ce01",
   "metadata": {
    "tags": []
   },
   "outputs": [],
   "source": [
    "# Define the '/' root route to display the content from index.html\n",
    "@app.route('/')\n",
    "def home():\n",
    "    return render_template('index.html')\n"
   ]
  },
  {
   "cell_type": "code",
   "execution_count": 4,
   "id": "f4baee75-6a5b-4168-b105-b6d2815c86f0",
   "metadata": {
    "tags": []
   },
   "outputs": [],
   "source": [
    "# Define the '/predict' route to:\n",
    "# - Get form data and convert them to float values\n",
    "# - Convert form data to numpy array\n",
    "# - Pass form data to model for prediction\n",
    "\n",
    "@app.route('/predict',methods=['POST'])\n",
    "def predict():\n",
    "    \n",
    "    form = request.form\n",
    "    if form:\n",
    "        form = [\n",
    "            form['Age'],\n",
    "            1 if form['Sex'] == 'Male' else 0,\n",
    "            form['Cholesterol'],\n",
    "            form['Heart-Rate'],\n",
    "            form['flexRadioDiabetes'],\n",
    "            form['flexRadioFamilyHistory'],\n",
    "            form['flexRadioSmoke'],\n",
    "            form['flexRadioObesity'],\n",
    "            form['flexRadioAlcoholic'],\n",
    "            form['Exercise-Hours'],\n",
    "            form['flexRadioHeartProblem'],\n",
    "            form['flexRadioMedication'],\n",
    "            form['stressLevel'],\n",
    "            form['sedentary-hours'],\n",
    "            form['income'],\n",
    "            form['BMI'],\n",
    "            form['Triglycerides'],\n",
    "            form['sleep-hours'],\n",
    "            form['systolic'],\n",
    "            form['diastolic'],\n",
    "            1 if form['diet'] == 'Healthy' else 0,\n",
    "            1 if form['diet'] == 'Average' else 0,\n",
    "            1 if form['diet'] == 'Unhealthy' else 0,\n",
    "            \n",
    "        ]\n",
    "    \n",
    "        form_data = [float(x) for x in form]\n",
    "        features = [np.array(form_data)]\n",
    "        prediction = model.predict(features)\n",
    "\n",
    "\t# Format prediction text for display in \"index.html\"\n",
    "    return render_template('index.html', heart_attack_prediction='You have {}'.format(prediction[0]))\n"
   ]
  },
  {
   "cell_type": "code",
   "execution_count": null,
   "id": "e84747e6-39de-4848-907d-311ecaf16131",
   "metadata": {
    "tags": []
   },
   "outputs": [
    {
     "name": "stdout",
     "output_type": "stream",
     "text": [
      " * Serving Flask app \"__main__\" (lazy loading)\n",
      " * Environment: production\n",
      "\u001b[31m   WARNING: This is a development server. Do not use it in a production deployment.\u001b[0m\n",
      "\u001b[2m   Use a production WSGI server instead.\u001b[0m\n",
      " * Debug mode: off\n"
     ]
    },
    {
     "name": "stderr",
     "output_type": "stream",
     "text": [
      " * Running on http://127.0.0.1:5000/ (Press CTRL+C to quit)\n",
      "127.0.0.1 - - [24/Nov/2023 04:02:04] \"GET / HTTP/1.1\" 200 -\n",
      "127.0.0.1 - - [24/Nov/2023 04:03:41] \"POST /predict HTTP/1.1\" 200 -\n"
     ]
    }
   ],
   "source": [
    "if __name__ == '__main__':\n",
    "    app.run(debug=False)\n"
   ]
  },
  {
   "cell_type": "code",
   "execution_count": null,
   "id": "8880e30b-2e42-4b1d-bf18-7e81b9da3e3e",
   "metadata": {},
   "outputs": [],
   "source": []
  }
 ],
 "metadata": {
  "kernelspec": {
   "display_name": "Python 3 (ipykernel)",
   "language": "python",
   "name": "python3"
  },
  "language_info": {
   "codemirror_mode": {
    "name": "ipython",
    "version": 3
   },
   "file_extension": ".py",
   "mimetype": "text/x-python",
   "name": "python",
   "nbconvert_exporter": "python",
   "pygments_lexer": "ipython3",
   "version": "3.9.12"
  }
 },
 "nbformat": 4,
 "nbformat_minor": 5
}
